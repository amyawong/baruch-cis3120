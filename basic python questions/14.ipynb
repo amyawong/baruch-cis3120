{
 "cells": [
  {
   "attachments": {},
   "cell_type": "markdown",
   "metadata": {},
   "source": [
    "14. Write a python program which will prompt the user to enter a character. If the character is part of the word 'fruit', your program will print 'The letter you entered is part of the word fruit.' Otherwise, the program will print 'This character is not part of the word fruit.' Consider only lowercase characters."
   ]
  },
  {
   "cell_type": "code",
   "execution_count": 11,
   "metadata": {},
   "outputs": [
    {
     "name": "stdout",
     "output_type": "stream",
     "text": [
      "The letter you entered is part of the word \"fruit\"\n"
     ]
    }
   ],
   "source": [
    "character = input(\"Enter a character: \").lower()\n",
    "character = character[:1]\n",
    "\n",
    "if character in \"fruit\":\n",
    "  print('The letter you entered is part of the word \"fruit\"')\n",
    "else:\n",
    "  print('This character is not part of the word \"fruit\"')"
   ]
  }
 ],
 "metadata": {
  "kernelspec": {
   "display_name": "Python 3",
   "language": "python",
   "name": "python3"
  },
  "language_info": {
   "codemirror_mode": {
    "name": "ipython",
    "version": 3
   },
   "file_extension": ".py",
   "mimetype": "text/x-python",
   "name": "python",
   "nbconvert_exporter": "python",
   "pygments_lexer": "ipython3",
   "version": "3.11.5"
  },
  "orig_nbformat": 4
 },
 "nbformat": 4,
 "nbformat_minor": 2
}
