{
 "cells": [
  {
   "attachments": {},
   "cell_type": "markdown",
   "metadata": {},
   "source": [
    "14. Write a python program which will prompt the user to enter a character. If the character is part of the word 'fruit', your program will print 'The letter you entered is part of the word fruit.' Otherwise, the program will print 'This character is not part of the word fruit.' Consider only lowercase characters."
   ]
  }
 ],
 "metadata": {
  "language_info": {
   "name": "python"
  },
  "orig_nbformat": 4
 },
 "nbformat": 4,
 "nbformat_minor": 2
}
