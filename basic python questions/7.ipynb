{
 "cells": [
  {
   "attachments": {},
   "cell_type": "markdown",
   "metadata": {},
   "source": [
    "7. Write a python program that will prompt the user to enter a name and an age. The program will then print the user's name as many times as the value of age. For example, if the user entered 'Jane' as the name and 4 as the age, the program will print 'Jane' 4 times. You will need to utilize a loop."
   ]
  },
  {
   "cell_type": "code",
   "execution_count": 2,
   "metadata": {},
   "outputs": [
    {
     "name": "stdout",
     "output_type": "stream",
     "text": [
      "Jane\n",
      "Jane\n",
      "Jane\n",
      "Jane\n",
      "Jane\n",
      "Jane\n",
      "Jane\n",
      "Jane\n",
      "Jane\n",
      "Jane\n"
     ]
    }
   ],
   "source": [
    "name = input(\"Enter a name: \")\n",
    "age = int(input(\"Enter an age: \"))\n",
    "\n",
    "for num in range(1, age + 1):\n",
    "  print(name)"
   ]
  }
 ],
 "metadata": {
  "kernelspec": {
   "display_name": "Python 3",
   "language": "python",
   "name": "python3"
  },
  "language_info": {
   "codemirror_mode": {
    "name": "ipython",
    "version": 3
   },
   "file_extension": ".py",
   "mimetype": "text/x-python",
   "name": "python",
   "nbconvert_exporter": "python",
   "pygments_lexer": "ipython3",
   "version": "3.11.5"
  },
  "orig_nbformat": 4
 },
 "nbformat": 4,
 "nbformat_minor": 2
}
