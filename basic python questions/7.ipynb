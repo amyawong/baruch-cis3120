{
 "cells": [
  {
   "attachments": {},
   "cell_type": "markdown",
   "metadata": {},
   "source": [
    "7. Write a python program that will prompt the user to enter a name and an age. The program will then print the user's name as many times as the value of age. For example, if the user entered 'Jane' as the name and 4 as the age, the program will print 'Jane' 4 times. You will need to utilize a loop."
   ]
  }
 ],
 "metadata": {
  "language_info": {
   "name": "python"
  },
  "orig_nbformat": 4
 },
 "nbformat": 4,
 "nbformat_minor": 2
}
