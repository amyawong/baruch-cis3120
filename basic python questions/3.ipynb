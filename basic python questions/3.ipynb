{
 "cells": [
  {
   "attachments": {},
   "cell_type": "markdown",
   "metadata": {},
   "source": [
    "3. Write a python program to print the following message to the screen 1000000 (one million)\n",
    "times.  \n",
    "\"I must study every day to pass CIS 3120\"  \n",
    "&nbsp;&nbsp;&nbsp;&nbsp;  \n",
    "Hint: Don't write one million \"print\" statements!"
   ]
  },
  {
   "cell_type": "code",
   "execution_count": 3,
   "metadata": {},
   "outputs": [
    {
     "name": "stdout",
     "output_type": "stream",
     "text": [
      "I must study every day to pass CIS 3120\n",
      "I must study every day to pass CIS 3120\n",
      "I must study every day to pass CIS 3120\n",
      "I must study every day to pass CIS 3120\n",
      "I must study every day to pass CIS 3120\n"
     ]
    }
   ],
   "source": [
    "for x in range(1, 6):   # change 6 to 1000001\n",
    "  print(\"I must study every day to pass CIS 3120\")"
   ]
  }
 ],
 "metadata": {
  "kernelspec": {
   "display_name": "Python 3",
   "language": "python",
   "name": "python3"
  },
  "language_info": {
   "codemirror_mode": {
    "name": "ipython",
    "version": 3
   },
   "file_extension": ".py",
   "mimetype": "text/x-python",
   "name": "python",
   "nbconvert_exporter": "python",
   "pygments_lexer": "ipython3",
   "version": "3.11.5"
  },
  "orig_nbformat": 4
 },
 "nbformat": 4,
 "nbformat_minor": 2
}
