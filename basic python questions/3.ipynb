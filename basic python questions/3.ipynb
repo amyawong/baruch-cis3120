{
 "cells": [
  {
   "attachments": {},
   "cell_type": "markdown",
   "metadata": {},
   "source": [
    "3. Write a python program to print the following message to the screen 1000000 (one million)\n",
    "times.  \n",
    "\"I must study every day to pass CIS 3120\"  \n",
    "&nbsp;&nbsp;&nbsp;&nbsp;  \n",
    "Hint: Don't write one million \"print\" statements!"
   ]
  }
 ],
 "metadata": {
  "language_info": {
   "name": "python"
  },
  "orig_nbformat": 4
 },
 "nbformat": 4,
 "nbformat_minor": 2
}
