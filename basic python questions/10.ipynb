{
 "cells": [
  {
   "attachments": {},
   "cell_type": "markdown",
   "metadata": {},
   "source": [
    "10. Write a function which will receive two parameters. The function will return the product of all the integers between the two parameters (inclusive of the two end points). You may assume that the first parameter is smaller than the second parameter. For example, if the first parameter is 2 and the second parameter is 5, the function will return 120. Why? 2 * 3 * 4 * 5 = 120"
   ]
  }
 ],
 "metadata": {
  "language_info": {
   "name": "python"
  },
  "orig_nbformat": 4
 },
 "nbformat": 4,
 "nbformat_minor": 2
}
