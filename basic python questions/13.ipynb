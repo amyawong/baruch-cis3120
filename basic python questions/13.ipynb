{
 "cells": [
  {
   "attachments": {},
   "cell_type": "markdown",
   "metadata": {},
   "source": [
    "13. Write a python program which will prompt the user to enter a positive integer.  \n",
    "If the user enters 0 or a negative value, the program will print 'Error.'  \n",
    "Otherwise, the program will find the sum of all values from 1 up to, and including, that number.  \n",
    "For example, if the user enters 3, the program will print 6. Why? 1 + 2 + 3 = 6"
   ]
  }
 ],
 "metadata": {
  "language_info": {
   "name": "python"
  },
  "orig_nbformat": 4
 },
 "nbformat": 4,
 "nbformat_minor": 2
}
