{
 "cells": [
  {
   "attachments": {},
   "cell_type": "markdown",
   "metadata": {},
   "source": [
    "13. Write a python program which will prompt the user to enter a positive integer.  \n",
    "If the user enters 0 or a negative value, the program will print 'Error.'  \n",
    "Otherwise, the program will find the sum of all values from 1 up to, and including, that number.  \n",
    "For example, if the user enters 3, the program will print 6. Why? 1 + 2 + 3 = 6"
   ]
  },
  {
   "cell_type": "code",
   "execution_count": 11,
   "metadata": {},
   "outputs": [
    {
     "name": "stdout",
     "output_type": "stream",
     "text": [
      "55\n"
     ]
    }
   ],
   "source": [
    "positive_integer = int(input(\"Enter a positive integer: \"))\n",
    "\n",
    "if positive_integer <= 0:\n",
    "  print(\"Error\")\n",
    "else:\n",
    "  total = 0\n",
    "  for num in range(1, positive_integer + 1):\n",
    "    total += num\n",
    "  print(total)"
   ]
  }
 ],
 "metadata": {
  "kernelspec": {
   "display_name": "Python 3",
   "language": "python",
   "name": "python3"
  },
  "language_info": {
   "codemirror_mode": {
    "name": "ipython",
    "version": 3
   },
   "file_extension": ".py",
   "mimetype": "text/x-python",
   "name": "python",
   "nbconvert_exporter": "python",
   "pygments_lexer": "ipython3",
   "version": "3.11.5"
  },
  "orig_nbformat": 4
 },
 "nbformat": 4,
 "nbformat_minor": 2
}
