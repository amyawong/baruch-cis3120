{
 "cells": [
  {
   "attachments": {},
   "cell_type": "markdown",
   "metadata": {},
   "source": [
    "2. You have been hired to develop the point of sale software for the cashiering system at The Great Staten Island Fish Market!  \n",
    "&nbsp;&nbsp;&nbsp;&nbsp;  \n",
    "This is a very unique fish market as it only sells 4 types of fish.  \n",
    "&nbsp;&nbsp;&nbsp;&nbsp;- salmon: sells for 7.50 per pound  \n",
    "&nbsp;&nbsp;&nbsp;&nbsp;- trout: sells for 4.25 per pound  \n",
    "&nbsp;&nbsp;&nbsp;&nbsp;- cod: sells for 6.50 per pound  \n",
    "&nbsp;&nbsp;&nbsp;&nbsp;- flounder: sells for 10.00 per pound  \n",
    "&nbsp;&nbsp;&nbsp;&nbsp;  \n",
    "Your program will start by prompting the cashier to enter the quantity of each type of fish purchased. That is, there will be 4 prompts. For example, \"enter the quantity (lbs) of salmon\n",
    "purchased, enter the quantity (lbs) of trout purchased, \" etc...   \n",
    "&nbsp;&nbsp;&nbsp;&nbsp;  \n",
    "The program will then calculate the subtotals for each type of fish purchased and then the final overall total.  \n",
    "&nbsp;&nbsp;&nbsp;&nbsp;  \n",
    "If the customer buys 10lbs of trout and 15 lbs of salmon, then apply a 25% discount to the overall bill.  \n",
    "&nbsp;&nbsp;&nbsp;&nbsp;  \n",
    "If the customer buys 20lbs of cod or 45 lbs of flounder, then apply a 20% discount to the overall bill (in addition to any other discounts already applied). That is, it is possible for a customer to receive 45% off of the overall bill.\n",
    "This information (receipt) will then be printed to the screen in a nicely formatted manner. For example:  \n",
    "&nbsp;&nbsp;&nbsp;&nbsp;  \n",
    "___\n",
    "Fish &nbsp;&nbsp;&nbsp;&nbsp;&nbsp;&nbsp;&nbsp;&nbsp;&nbsp;&nbsp;&nbsp;&nbsp;   Quantity &nbsp;&nbsp;&nbsp;&nbsp; Unit Price &nbsp;&nbsp;&nbsp;&nbsp; Subtotal  \n",
    "Salmon &nbsp;&nbsp;&nbsp;&nbsp;&nbsp;&nbsp; 10 &nbsp;&nbsp;&nbsp;&nbsp;&nbsp;&nbsp;&nbsp;&nbsp;&nbsp;&nbsp;&nbsp;&nbsp;&nbsp;&nbsp;&nbsp; 7.50 &nbsp;&nbsp;&nbsp;&nbsp;&nbsp;&nbsp;&nbsp;&nbsp;&nbsp;&nbsp;&nbsp;&nbsp;&nbsp;&nbsp; 75.00  \n",
    "Trout &nbsp;&nbsp;&nbsp;&nbsp;&nbsp;&nbsp;&nbsp;&nbsp;&nbsp;&nbsp; 2 &nbsp;&nbsp;&nbsp;&nbsp;&nbsp;&nbsp;&nbsp;&nbsp;&nbsp;&nbsp;&nbsp;&nbsp;&nbsp;&nbsp;&nbsp;&nbsp; 4.25 &nbsp;&nbsp;&nbsp;&nbsp;&nbsp;&nbsp;&nbsp;&nbsp;&nbsp;&nbsp;&nbsp;&nbsp;&nbsp;&nbsp; 9.00  \n",
    "Cod &nbsp;&nbsp;&nbsp;&nbsp;&nbsp;&nbsp;&nbsp;&nbsp;&nbsp;&nbsp;&nbsp;&nbsp; 5 &nbsp;&nbsp;&nbsp;&nbsp;&nbsp;&nbsp;&nbsp;&nbsp;&nbsp;&nbsp;&nbsp;&nbsp;&nbsp;&nbsp;&nbsp;&nbsp; 6.50 &nbsp;&nbsp;&nbsp;&nbsp;&nbsp;&nbsp;&nbsp;&nbsp;&nbsp;&nbsp;&nbsp;&nbsp;&nbsp;&nbsp; 32.50  \n",
    "Flounder &nbsp;&nbsp;&nbsp;&nbsp; 0 &nbsp;&nbsp;&nbsp;&nbsp;&nbsp;&nbsp;&nbsp;&nbsp;&nbsp;&nbsp;&nbsp;&nbsp;&nbsp;&nbsp;&nbsp;&nbsp; 10.00 &nbsp;&nbsp;&nbsp;&nbsp;&nbsp;&nbsp;&nbsp;&nbsp;&nbsp;&nbsp;&nbsp;&nbsp; 0.00  \n",
    "  \n",
    "Gross Total: &nbsp;&nbsp;&nbsp;&nbsp;&nbsp;&nbsp;&nbsp;&nbsp;&nbsp;&nbsp;&nbsp; 116.50  \n",
    "Discounts (if any): &nbsp; 0.00  \n",
    "Net total: &nbsp;&nbsp;&nbsp;&nbsp;&nbsp;&nbsp;&nbsp;&nbsp;&nbsp;&nbsp;&nbsp;&nbsp;&nbsp;&nbsp;&nbsp;&nbsp; 116.50  \n",
    "&nbsp;&nbsp;&nbsp;&nbsp;  \n",
    "Thank you for shopping at The Great Staten Island Fish Market!\n",
    "___"
   ]
  }
 ],
 "metadata": {
  "language_info": {
   "name": "python"
  },
  "orig_nbformat": 4
 },
 "nbformat": 4,
 "nbformat_minor": 2
}
