{
 "cells": [
  {
   "attachments": {},
   "cell_type": "markdown",
   "metadata": {},
   "source": [
    "9. \n",
    "|4.5|5|5.5|\n",
    "|--|--|--|\n",
    "|1.5|3.5|3|\n",
    "|3|4.5|4|\n",
    "|2.5|2.5|4.5|\n",
    "  \n",
    "Implement the above table using lists in python. Write a python program which will determine:  \n",
    "- the number of elements in the list which are greater than or equal 4  \n",
    "- the number of elements in the list which are less than 4"
   ]
  }
 ],
 "metadata": {
  "language_info": {
   "name": "python"
  },
  "orig_nbformat": 4
 },
 "nbformat": 4,
 "nbformat_minor": 2
}
