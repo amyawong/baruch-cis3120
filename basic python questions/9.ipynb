{
 "cells": [
  {
   "attachments": {},
   "cell_type": "markdown",
   "metadata": {},
   "source": [
    "9. \n",
    "|4.5|5|5.5|\n",
    "|--|--|--|\n",
    "|1.5|3.5|3|\n",
    "|3|4.5|4|\n",
    "|2.5|2.5|4.5|\n",
    "  \n",
    "Implement the above table using lists in python. Write a python program which will determine:  \n",
    "- the number of elements in the list which are greater than or equal 4  \n",
    "- the number of elements in the list which are less than 4"
   ]
  },
  {
   "cell_type": "code",
   "execution_count": 4,
   "metadata": {},
   "outputs": [
    {
     "name": "stdout",
     "output_type": "stream",
     "text": [
      "The number of elements in the list which are greater than or equal to 4 is 6\n",
      "The number of elements in the list which are less than 4 is 6\n"
     ]
    }
   ],
   "source": [
    "table = [[4.5, 5, 5.5], [1.5, 3.5, 3], [3, 4.5, 4], [2.5, 2.5, 4.5]]\n",
    "\n",
    "greater_than_or_equal_to_4 = 0\n",
    "less_than_4 = 0\n",
    "\n",
    "for row in table:\n",
    "  for cell in row:\n",
    "    if cell >= 4:\n",
    "      greater_than_or_equal_to_4 += 1\n",
    "    elif cell < 4:\n",
    "      less_than_4 += 1\n",
    "\n",
    "print(f\"The number of elements in the list which are greater than or equal to 4 is {greater_than_or_equal_to_4}\")\n",
    "print(f\"The number of elements in the list which are less than 4 is {less_than_4}\")"
   ]
  }
 ],
 "metadata": {
  "kernelspec": {
   "display_name": "Python 3",
   "language": "python",
   "name": "python3"
  },
  "language_info": {
   "codemirror_mode": {
    "name": "ipython",
    "version": 3
   },
   "file_extension": ".py",
   "mimetype": "text/x-python",
   "name": "python",
   "nbconvert_exporter": "python",
   "pygments_lexer": "ipython3",
   "version": "3.11.5"
  },
  "orig_nbformat": 4
 },
 "nbformat": 4,
 "nbformat_minor": 2
}
