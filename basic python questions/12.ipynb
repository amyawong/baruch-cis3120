{
 "cells": [
  {
   "attachments": {},
   "cell_type": "markdown",
   "metadata": {},
   "source": [
    "12. Write a complete python program which will allow the user to calculate the volume of a rectangular solid for as many times as that person wishes.  \n",
    "&nbsp;&nbsp;&nbsp;&nbsp;  \n",
    "The program will start by asking the user:  \n",
    "\"Do you wish to calculate the volume of a rectangular solid?\"  \n",
    "\"Enter 'y' to continue or any other value to exit\"  \n",
    "&nbsp;&nbsp;&nbsp;&nbsp;  \n",
    "The program will then prompt the user to enter the length, width, and height of a rectangular solid. It will then calculate the volume by using the following formula: Volume = length * width * height  \n",
    "&nbsp;&nbsp;&nbsp;&nbsp;  \n",
    "The program will then print the volume and prompt the user to indicate whether or not that person wishes to repeat the aforementioned process. If the user answers in the affirmative, then the process repeats, otherwise the program will end.  \n",
    "&nbsp;&nbsp;&nbsp;&nbsp;  \n",
    "Before the program ends, print the following:  \n",
    "&nbsp;&nbsp;&nbsp;&nbsp; - The number of calculations made  \n",
    "&nbsp;&nbsp;&nbsp;&nbsp; - The total volume of all cubes processed  \n",
    "&nbsp;&nbsp;&nbsp;&nbsp; - The average volume of a cube  "
   ]
  },
  {
   "cell_type": "code",
   "execution_count": 3,
   "metadata": {},
   "outputs": [],
   "source": [
    "question = input(\"Do you wish to calculate the volume of a rectangular solid? \\n Enter 'y' to continue or any other value to exit\")\n",
    "\n",
    "if question == 'y':\n",
    "  length = float(input(\"Enter a length: \"))\n",
    "  width = float(input(\"Enter a width: \"))\n",
    "  height = float(input(\"Enter a height: \"))\n",
    "\n",
    "  volume = length * width * height\n",
    "\n",
    "  print(f\"A rectangular solid with a length of {length}, width of {width}, and height of {height} has a volume of {volume}\")"
   ]
  }
 ],
 "metadata": {
  "kernelspec": {
   "display_name": "Python 3",
   "language": "python",
   "name": "python3"
  },
  "language_info": {
   "codemirror_mode": {
    "name": "ipython",
    "version": 3
   },
   "file_extension": ".py",
   "mimetype": "text/x-python",
   "name": "python",
   "nbconvert_exporter": "python",
   "pygments_lexer": "ipython3",
   "version": "3.11.5"
  },
  "orig_nbformat": 4
 },
 "nbformat": 4,
 "nbformat_minor": 2
}
