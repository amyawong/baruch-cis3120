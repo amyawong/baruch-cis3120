{
 "cells": [
  {
   "attachments": {},
   "cell_type": "markdown",
   "metadata": {},
   "source": [
    "12. Write a complete python program which will allow the user to calculate the volume of a rectangular solid for as many times as that person wishes.  \n",
    "&nbsp;&nbsp;&nbsp;&nbsp;  \n",
    "The program will start by asking the user:  \n",
    "\"Do you wish to calculate the volume of a rectangular solid?\"  \n",
    "\"Enter 'y' to continue or any other value to exit\"  \n",
    "&nbsp;&nbsp;&nbsp;&nbsp;  \n",
    "The program will then prompt the user to enter the length, width, and height of a rectangular solid. It will then calculate the volume by using the following formula: Volume = length * width * height  \n",
    "&nbsp;&nbsp;&nbsp;&nbsp;  \n",
    "The program will then print the volume and prompt the user to indicate whether or not that person wishes to repeat the aforementioned process. If the user answers in the affirmative, then the process repeats, otherwise the program will end.  \n",
    "&nbsp;&nbsp;&nbsp;&nbsp;  \n",
    "Before the program ends, print the following:  \n",
    "&nbsp;&nbsp;&nbsp;&nbsp; - The number of calculations made  \n",
    "&nbsp;&nbsp;&nbsp;&nbsp; - The total volume of all cubes processed  \n",
    "&nbsp;&nbsp;&nbsp;&nbsp; - The average volume of a cube  "
   ]
  }
 ],
 "metadata": {
  "language_info": {
   "name": "python"
  },
  "orig_nbformat": 4
 },
 "nbformat": 4,
 "nbformat_minor": 2
}
