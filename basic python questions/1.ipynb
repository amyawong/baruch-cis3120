{
 "cells": [
  {
   "attachments": {},
   "cell_type": "markdown",
   "metadata": {},
   "source": [
    "1. Write a python program to calculate the total surface area of a cube. The program will\n",
    "prompt the user to enter the length of one side of the cube. It will then store this value, calculate\n",
    "the total surface area, and then print the result.  \n",
    "&nbsp;&nbsp;&nbsp;&nbsp;  \n",
    "If the total surface area is equal to 864, the program will print “This looks like a rubik’s cube!“  \n",
    "&nbsp;&nbsp;&nbsp;&nbsp;  \n",
    "You may use the following formula below:  \n",
    "![](https://mathmonks.com/wp-content/uploads/2022/09/How-to-Find-the-Surface-Area-of-a-Cube.jpg)"
   ]
  },
  {
   "attachments": {},
   "cell_type": "markdown",
   "metadata": {},
   "source": []
  }
 ],
 "metadata": {
  "language_info": {
   "name": "python"
  },
  "orig_nbformat": 4
 },
 "nbformat": 4,
 "nbformat_minor": 2
}
