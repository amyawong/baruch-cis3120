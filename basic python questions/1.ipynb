{
 "cells": [
  {
   "attachments": {},
   "cell_type": "markdown",
   "metadata": {},
   "source": [
    "1. Write a python program to calculate the total surface area of a cube. The program will\n",
    "prompt the user to enter the length of one side of the cube. It will then store this value, calculate\n",
    "the total surface area, and then print the result.  \n",
    "&nbsp;&nbsp;&nbsp;&nbsp;  \n",
    "If the total surface area is equal to 864, the program will print “This looks like a rubik’s cube!“  \n",
    "&nbsp;&nbsp;&nbsp;&nbsp;  \n",
    "You may use the following formula below:  \n",
    "![](https://mathmonks.com/wp-content/uploads/2022/09/How-to-Find-the-Surface-Area-of-a-Cube.jpg)"
   ]
  },
  {
   "attachments": {},
   "cell_type": "markdown",
   "metadata": {},
   "source": []
  },
  {
   "cell_type": "code",
   "execution_count": 2,
   "metadata": {},
   "outputs": [
    {
     "name": "stdout",
     "output_type": "stream",
     "text": [
      "The total surface area of a cube with a side 3.0 is 27.0\n",
      "This doesn't look like a rubiks cube\n"
     ]
    }
   ],
   "source": [
    "side = float(input('Enter the side of a cube: '))\n",
    "total_surface_area = side ** 3\n",
    "\n",
    "print(f'The total surface area of a cube with a side {side} is {total_surface_area}')\n",
    "\n",
    "if total_surface_area == 864:\n",
    "  print('This looks like a rubiks cube')\n",
    "else:\n",
    "  print(\"This doesn't look like a rubiks cube\")"
   ]
  }
 ],
 "metadata": {
  "kernelspec": {
   "display_name": "Python 3",
   "language": "python",
   "name": "python3"
  },
  "language_info": {
   "codemirror_mode": {
    "name": "ipython",
    "version": 3
   },
   "file_extension": ".py",
   "mimetype": "text/x-python",
   "name": "python",
   "nbconvert_exporter": "python",
   "pygments_lexer": "ipython3",
   "version": "3.11.5"
  },
  "orig_nbformat": 4
 },
 "nbformat": 4,
 "nbformat_minor": 2
}
