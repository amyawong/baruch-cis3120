{
 "cells": [
  {
   "attachments": {},
   "cell_type": "markdown",
   "metadata": {},
   "source": [
    "6. Write a python program that will prompt the user to enter a credit score. The program will then determine the quality of the credit score (use the table below as a guide) and then print an appropriate message. For example, if the user entered a credit score between 700 and 759 (inclusive), the program will print \"Very Good!\"\n",
    "![](https://northshoreadvisory.com/wp-content/uploads/2014/11/ranges.png)"
   ]
  }
 ],
 "metadata": {
  "language_info": {
   "name": "python"
  },
  "orig_nbformat": 4
 },
 "nbformat": 4,
 "nbformat_minor": 2
}
