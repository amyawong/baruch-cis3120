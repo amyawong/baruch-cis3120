{
 "cells": [
  {
   "attachments": {},
   "cell_type": "markdown",
   "metadata": {},
   "source": [
    "6. Write a python program that will prompt the user to enter a credit score. The program will then determine the quality of the credit score (use the table below as a guide) and then print an appropriate message. For example, if the user entered a credit score between 700 and 759 (inclusive), the program will print \"Very Good!\"\n",
    "&nbsp;&nbsp;&nbsp;&nbsp;  \n",
    "![](https://northshoreadvisory.com/wp-content/uploads/2014/11/ranges.png)"
   ]
  },
  {
   "cell_type": "code",
   "execution_count": 4,
   "metadata": {},
   "outputs": [
    {
     "name": "stdout",
     "output_type": "stream",
     "text": [
      "Good\n"
     ]
    }
   ],
   "source": [
    "credit_score = int(input(\"Enter a credit score: \"))\n",
    "\n",
    "if credit_score >= 760 and credit_score <= 850:\n",
    "  print('Excellent')\n",
    "elif credit_score >= 700 and credit_score <= 759:\n",
    "  print('Very Good')\n",
    "elif credit_score >= 660 and credit_score <= 669:\n",
    "  print('Good')\n",
    "elif credit_score >= 620 and credit_score <= 659:\n",
    "  print('Fair')\n",
    "elif credit_score >= 580 and credit_score <= 619:\n",
    "  print('Poor')\n",
    "elif credit_score >= 500 and credit_score <= 579:\n",
    "  print('Very Poor')\n"
   ]
  }
 ],
 "metadata": {
  "kernelspec": {
   "display_name": "Python 3",
   "language": "python",
   "name": "python3"
  },
  "language_info": {
   "codemirror_mode": {
    "name": "ipython",
    "version": 3
   },
   "file_extension": ".py",
   "mimetype": "text/x-python",
   "name": "python",
   "nbconvert_exporter": "python",
   "pygments_lexer": "ipython3",
   "version": "3.11.5"
  },
  "orig_nbformat": 4
 },
 "nbformat": 4,
 "nbformat_minor": 2
}
