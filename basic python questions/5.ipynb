{
 "cells": [
  {
   "attachments": {},
   "cell_type": "markdown",
   "metadata": {},
   "source": [
    "5. Write a python program that will allow a user to calculate the area of a triangle. That is, the\n",
    "program will prompt the user to enter the base and height of the triangle. The program will then\n",
    "calculate the area by using the following formula:  \n",
    "area = 0.5 * base * height  \n",
    "The program will then print the area to the screen."
   ]
  }
 ],
 "metadata": {
  "language_info": {
   "name": "python"
  },
  "orig_nbformat": 4
 },
 "nbformat": 4,
 "nbformat_minor": 2
}
