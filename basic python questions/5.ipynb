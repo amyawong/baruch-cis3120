{
 "cells": [
  {
   "attachments": {},
   "cell_type": "markdown",
   "metadata": {},
   "source": [
    "5. Write a python program that will allow a user to calculate the area of a triangle. That is, the\n",
    "program will prompt the user to enter the base and height of the triangle. The program will then\n",
    "calculate the area by using the following formula:  \n",
    "area = 0.5 * base * height  \n",
    "The program will then print the area to the screen."
   ]
  },
  {
   "cell_type": "code",
   "execution_count": 1,
   "metadata": {},
   "outputs": [
    {
     "name": "stdout",
     "output_type": "stream",
     "text": [
      "The area of the triangle with a base of 6.0 and a height of 6.0 is 18.0\n"
     ]
    }
   ],
   "source": [
    "base = float(input(\"Enter a base to calculate the area of a triangle: \"))\n",
    "height = float(input(\"Enter a height to calculate the area of a triangle: \"))\n",
    "\n",
    "area = 0.5 * base * height\n",
    "\n",
    "print(f\"The area of the triangle with a base of {base} and a height of {height} is {area}\")"
   ]
  }
 ],
 "metadata": {
  "kernelspec": {
   "display_name": "Python 3",
   "language": "python",
   "name": "python3"
  },
  "language_info": {
   "codemirror_mode": {
    "name": "ipython",
    "version": 3
   },
   "file_extension": ".py",
   "mimetype": "text/x-python",
   "name": "python",
   "nbconvert_exporter": "python",
   "pygments_lexer": "ipython3",
   "version": "3.11.5"
  },
  "orig_nbformat": 4
 },
 "nbformat": 4,
 "nbformat_minor": 2
}
