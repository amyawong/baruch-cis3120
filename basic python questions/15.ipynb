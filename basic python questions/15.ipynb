{
 "cells": [
  {
   "attachments": {},
   "cell_type": "markdown",
   "metadata": {},
   "source": [
    "15. Write a python program to find the sum of all multiples of 3 from between 1 and 100. Your program will print each multiple and the sum."
   ]
  },
  {
   "cell_type": "code",
   "execution_count": 13,
   "metadata": {},
   "outputs": [
    {
     "name": "stdout",
     "output_type": "stream",
     "text": [
      "3 is a multiple of 3\n",
      "6 is a multiple of 3\n",
      "9 is a multiple of 3\n",
      "12 is a multiple of 3\n",
      "15 is a multiple of 3\n",
      "18 is a multiple of 3\n",
      "21 is a multiple of 3\n",
      "24 is a multiple of 3\n",
      "27 is a multiple of 3\n",
      "30 is a multiple of 3\n",
      "33 is a multiple of 3\n",
      "36 is a multiple of 3\n",
      "39 is a multiple of 3\n",
      "42 is a multiple of 3\n",
      "45 is a multiple of 3\n",
      "48 is a multiple of 3\n",
      "51 is a multiple of 3\n",
      "54 is a multiple of 3\n",
      "57 is a multiple of 3\n",
      "60 is a multiple of 3\n",
      "63 is a multiple of 3\n",
      "66 is a multiple of 3\n",
      "69 is a multiple of 3\n",
      "72 is a multiple of 3\n",
      "75 is a multiple of 3\n",
      "78 is a multiple of 3\n",
      "81 is a multiple of 3\n",
      "84 is a multiple of 3\n",
      "87 is a multiple of 3\n",
      "90 is a multiple of 3\n",
      "93 is a multiple of 3\n",
      "96 is a multiple of 3\n",
      "99 is a multiple of 3\n",
      "1683\n"
     ]
    }
   ],
   "source": [
    "total = 0\n",
    "\n",
    "for num in range(1, 101):\n",
    "  if num % 3 == 0:\n",
    "    print(f'{num} is a multiple of 3')\n",
    "    # num += total\n",
    "    total += num\n",
    "  \n",
    "print(total)"
   ]
  }
 ],
 "metadata": {
  "kernelspec": {
   "display_name": "Python 3",
   "language": "python",
   "name": "python3"
  },
  "language_info": {
   "codemirror_mode": {
    "name": "ipython",
    "version": 3
   },
   "file_extension": ".py",
   "mimetype": "text/x-python",
   "name": "python",
   "nbconvert_exporter": "python",
   "pygments_lexer": "ipython3",
   "version": "3.11.5"
  },
  "orig_nbformat": 4
 },
 "nbformat": 4,
 "nbformat_minor": 2
}
