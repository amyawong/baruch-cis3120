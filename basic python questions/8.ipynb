{
 "cells": [
  {
   "attachments": {},
   "cell_type": "markdown",
   "metadata": {},
   "source": [
    "8. Assume that you are given the following list:  \n",
    "values = [2.5, 3.1, 8.4, 9.5, 2.5]  \n",
    "&nbsp;&nbsp;&nbsp;&nbsp;  \n",
    "Write a python program which will add 10 to all elements which exist at the even indexes. Also, multiply the elements by 10 which exist at the odd indexes. For example, 2.5 should be changed to 12.5 because it is at index 0. 3.1 should be changed to 31 because it is at index 1, etc. Print the list after making these changes to it."
   ]
  },
  {
   "cell_type": "code",
   "execution_count": 8,
   "metadata": {},
   "outputs": [
    {
     "name": "stdout",
     "output_type": "stream",
     "text": [
      "[12.5, 31.0, 18.4, 95.0, 12.5]\n"
     ]
    }
   ],
   "source": [
    "values = [2.5, 3.1, 8.4, 9.5, 2.5]\n",
    "\n",
    "for i in range(0, len(values)):\n",
    "  # print(i)  # prints: 0 1 2 3 4\n",
    "  # print(values[i])  # prints: 2.5 3.1 8.4 9.5 2.5\n",
    "  if i % 2 == 0:\n",
    "    values[i] += 10\n",
    "  elif i % 2 != 0:\n",
    "    values[i] *= 10\n",
    "\n",
    "print(values)   # prints: [12.5, 31.0, 18.4, 95.0, 12.5]"
   ]
  }
 ],
 "metadata": {
  "kernelspec": {
   "display_name": "Python 3",
   "language": "python",
   "name": "python3"
  },
  "language_info": {
   "codemirror_mode": {
    "name": "ipython",
    "version": 3
   },
   "file_extension": ".py",
   "mimetype": "text/x-python",
   "name": "python",
   "nbconvert_exporter": "python",
   "pygments_lexer": "ipython3",
   "version": "3.11.5"
  },
  "orig_nbformat": 4
 },
 "nbformat": 4,
 "nbformat_minor": 2
}
