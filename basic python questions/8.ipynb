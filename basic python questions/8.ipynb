{
 "cells": [
  {
   "attachments": {},
   "cell_type": "markdown",
   "metadata": {},
   "source": [
    "8. Assume that you are given the following list:  \n",
    "values = [2.5, 3.1, 8.4, 9.5, 2.5]  \n",
    "&nbsp;&nbsp;&nbsp;&nbsp;  \n",
    "Write a python program which will add 10 to all elements which exist at the even indexes. Also, multiply the elements by 10 which exist at the odd indexes. For example, 2.5 should be changed to 12.5 because it is at index 0. 3.1 should be changed to 31 because it is at index 1, etc. Print the list after making these changes to it."
   ]
  }
 ],
 "metadata": {
  "language_info": {
   "name": "python"
  },
  "orig_nbformat": 4
 },
 "nbformat": 4,
 "nbformat_minor": 2
}
