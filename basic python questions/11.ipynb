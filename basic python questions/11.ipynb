{
 "cells": [
  {
   "attachments": {},
   "cell_type": "markdown",
   "metadata": {},
   "source": [
    "11. Consider the following list:  \n",
    "nums = [2, 0, 9, 1]  \n",
    "&nbsp;&nbsp;&nbsp;&nbsp;  \n",
    "Write a complete python program which will print the contents of the list on one line separated by a + sign.  \n",
    "&nbsp;&nbsp;&nbsp;&nbsp;  \n",
    "That is, the output should look like the following:  \n",
    "2 + 0 + 9 + 1"
   ]
  },
  {
   "cell_type": "code",
   "execution_count": 8,
   "metadata": {},
   "outputs": [
    {
     "name": "stdout",
     "output_type": "stream",
     "text": [
      "2 + 0 + 9 + 1\n"
     ]
    }
   ],
   "source": [
    "nums = [2, 0, 9, 1]\n",
    "nums = \" + \".join(map(str, nums))\n",
    "\n",
    "print(nums)"
   ]
  }
 ],
 "metadata": {
  "kernelspec": {
   "display_name": "Python 3",
   "language": "python",
   "name": "python3"
  },
  "language_info": {
   "codemirror_mode": {
    "name": "ipython",
    "version": 3
   },
   "file_extension": ".py",
   "mimetype": "text/x-python",
   "name": "python",
   "nbconvert_exporter": "python",
   "pygments_lexer": "ipython3",
   "version": "3.11.5"
  },
  "orig_nbformat": 4
 },
 "nbformat": 4,
 "nbformat_minor": 2
}
