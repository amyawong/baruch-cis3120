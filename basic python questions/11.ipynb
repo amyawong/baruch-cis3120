{
 "cells": [
  {
   "attachments": {},
   "cell_type": "markdown",
   "metadata": {},
   "source": [
    "11. Consider the following list:  \n",
    "nums = [2, 0, 9, 1]  \n",
    "&nbsp;&nbsp;&nbsp;&nbsp;  \n",
    "Write a complete python program which will print the contents of the list on one line separated by a + sign.  \n",
    "&nbsp;&nbsp;&nbsp;&nbsp;  \n",
    "That is, the output should look like the following:  \n",
    "2 + 0 + 9 + 1"
   ]
  }
 ],
 "metadata": {
  "language_info": {
   "name": "python"
  },
  "orig_nbformat": 4
 },
 "nbformat": 4,
 "nbformat_minor": 2
}
