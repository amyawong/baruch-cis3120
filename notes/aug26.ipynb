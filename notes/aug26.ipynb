{
 "cells": [
  {
   "cell_type": "markdown",
   "metadata": {},
   "source": [
    "1. Write a python program to calculate the total surface area of a cube. The program will prompt the user to enter the length of one side of the cube. It will then store this value, calculate the total surface area, and then print the result.  \n",
    "If the total surface area is equal to 864, the program will print “This looks like a rubik’s cube!“  \n",
    "You may use the formula below: 6a^2"
   ]
  },
  {
   "cell_type": "code",
   "execution_count": null,
   "metadata": {},
   "outputs": [],
   "source": [
    "# prompt the user to enter one side of the cube\n",
    "side = float(input(\"Enter the side of the cube: \"))\n",
    "print(side)\n",
    "\n",
    "tsa = side * side * 6\n",
    "print(f'The total surface area of a cube with a side {side} is {tsa}')\n",
    "\n",
    "if tsa == 864:\n",
    "    print(\"This looks like a rubik's cube!\")\n",
    "else:\n",
    "    print(\"This doesn't look like a rubik's cube\")\n"
   ]
  },
  {
   "cell_type": "markdown",
   "metadata": {},
   "source": [
    "8. Assume that you are given the following list:  \n",
    "values = [2.5, 3.1, 8.4, 9.5, 2.5]  \n",
    "Write a python program which will add 10 to all elements which exist at the even indexes. Also, multiply the elements by 10 which exist at the odd indexes. For example, 2.5 should be changed to 12.5 because it is at index 0. 3.1 should be changed to 31 because it is at index 1, etc. Print the list after making these changes to it."
   ]
  },
  {
   "cell_type": "code",
   "execution_count": null,
   "metadata": {},
   "outputs": [],
   "source": [
    "values = [2.5, 3.1, 8.4, 9.5, 2.5]\n",
    "\n",
    "# hard coded way:\n",
    "# values[0] += 10 # same as doing values[0] = values[0] + 10\n",
    "# values[2] += 10 \n",
    "# values[4] += 10\n",
    "# values[1] *= 10\n",
    "# values[3] *= 10\n",
    "# print(values)   # prints: [12.5, 31.0, 18.4, 95.0, 12.5]\n",
    "\n",
    "# using for loop:\n",
    "for x in range(len(values)):\n",
    "    # print(x, values[x])\n",
    "    if x % 2 == 0:\n",
    "        values[x] += 10\n",
    "    else:\n",
    "        values[x] *= 10\n",
    "print(values)   # prints: [12.5, 31.0, 18.4, 95.0, 12.5]\n"
   ]
  },
  {
   "cell_type": "markdown",
   "metadata": {},
   "source": [
    "**Data vs Information**\n",
    "- Data consists of facts and statistics gathered from an activity or process  \n",
    "&ensp;i.e. the latitude, longitude, local time related to 1000 Android devices  \n",
    "- Information is the knowledge interpreted from data when such data is processed, organized, and structured  \n",
    "&ensp;i.e. the average speed at which those 100 Android devices are moving at"
   ]
  },
  {
   "cell_type": "markdown",
   "metadata": {},
   "source": [
    "**Web Scraping**\n",
    "- Constructing and utilizing an agent to download, parse, and organize data from the web in an automated manner  \n",
    "- Motivations for scraping have remained the same: Gather large amounts of data quickly and then storing it to be processed later"
   ]
  },
  {
   "cell_type": "markdown",
   "metadata": {},
   "source": [
    "**Application Programming Interfaces (API)**\n",
    "- a web application where organizations provide data to the public in a structured manner\n",
    "- designed to accessed by computer programs, NOT humans\n",
    "- allows to automate transfer of bulk data\n",
    "- access is restricted by a token (a special type of password)\n",
    "- Facebook, Netflix, Twitter, all have APIs where you get user and website data, number of likes, etc."
   ]
  },
  {
   "cell_type": "markdown",
   "metadata": {},
   "source": [
    "**How Does The World Wide Web Work?**\n",
    "- Clients (laptop/phone/computer/etc.) send requests to the server via a request method, URL, and the version of the protocol being used\n",
    "- Servers (dedicated computers responsible for providing information to clients) respond with the version of the protocol being used, a status message, success or error code, followed by the content requested with by the client\n",
    "- Server sends response encoded in HTML code\n",
    "- Web browser interprets the HTML code and displays the website\n",
    "\n",
    "![](https://wikieducator.org/images/thumb/c/ce/2013vmvClientServer.png/495px-2013vmvClientServer.png)\n",
    "  "
   ]
  },
  {
   "cell_type": "markdown",
   "metadata": {},
   "source": [
    "**Hypertext Transfer Protocol (HTTP)**\n",
    "- Communication based protocol which allows for the transfer of data over the internet\n",
    "- It provides a set of rules which govern the communication between clients and servers\n",
    "- Specifies the format in which _clients_ will send _requests_ to the server\n",
    "- Specifies the format in which _servers_ will _respond_ to those requests\n"
   ]
  },
  {
   "cell_type": "markdown",
   "metadata": {},
   "source": [
    "**Hypertext Markup Language (HTML)**\n",
    "- All webpages are written in HTML\n",
    "- To view the HTML of a page: right click on the page and select View Source\n",
    "- Web Scrapers extract the HTML from a web page and parse the code looking for specific keywords"
   ]
  },
  {
   "cell_type": "markdown",
   "metadata": {},
   "source": [
    "**The \"webbrowser\" Module**\n",
    "- a standard module thatcomes built in in Python (no need to install it via \"pip\")\n",
    "- used to open a browser to a specific page\n",
    "- .open(url), .open_new(url), .open_new_tab(url) methods\n",
    "- does NOT work in Jupyter Notebooks or cloud based platforms such as Google Collaborate"
   ]
  },
  {
   "cell_type": "markdown",
   "metadata": {},
   "source": [
    "**The Requests Module**\n",
    "- handles the transactions between the client and the server in a tidy manner\n",
    "- isn’t provided with the initial python installation\n",
    "- installed by running in Terminal: pip install -U requests  \n",
    "&ensp;&ensp;-U means to update the existing module if it is already installed"
   ]
  }
 ],
 "metadata": {
  "kernelspec": {
   "display_name": "Python 3",
   "language": "python",
   "name": "python3"
  },
  "language_info": {
   "codemirror_mode": {
    "name": "ipython",
    "version": 3
   },
   "file_extension": ".py",
   "mimetype": "text/x-python",
   "name": "python",
   "nbconvert_exporter": "python",
   "pygments_lexer": "ipython3",
   "version": "3.11.5"
  },
  "orig_nbformat": 4
 },
 "nbformat": 4,
 "nbformat_minor": 2
}
