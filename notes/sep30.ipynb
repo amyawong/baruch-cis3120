{
 "cells": [
  {
   "cell_type": "markdown",
   "metadata": {},
   "source": [
    "**Homework Problem 2**"
   ]
  },
  {
   "cell_type": "markdown",
   "metadata": {},
   "source": [
    "2. Write a function called introduction()"
   ]
  },
  {
   "cell_type": "code",
   "execution_count": 10,
   "metadata": {},
   "outputs": [],
   "source": [
    "# 2.\n",
    "def introduction():\n",
    "  # print our name\n",
    "  print('My name is Amy')\n",
    "\n",
    "  # explain what the program does\n",
    "  print('This program takes three integer values, calculates their average \\n and compares each value to the average.')\n",
    "  print('Enter the correct password (a 3 digit combination) to continue using the program')\n",
    "  print()\n",
    "  print('The program will exit if you enter any other combination')"
   ]
  },
  {
   "cell_type": "markdown",
   "metadata": {},
   "source": [
    "3. Write a function called find_average(x, y z). The function will recieve 3 parameters andf ind teh average of these 3 numbers and return it."
   ]
  },
  {
   "cell_type": "code",
   "execution_count": null,
   "metadata": {},
   "outputs": [],
   "source": [
    "# 12. Create find_average function\n",
    "def find_average(x, y, z):\n",
    "  # Find and return the average of x, y, and z\n",
    "  average = (x + y + z)/3\n",
    "  return average"
   ]
  },
  {
   "cell_type": "markdown",
   "metadata": {},
   "source": [
    "1. Write a function called main. As of now, this function will not do anything"
   ]
  },
  {
   "cell_type": "code",
   "execution_count": null,
   "metadata": {},
   "outputs": [],
   "source": [
    "# 1. \n",
    "# def main():\n",
    "  # pass\n",
    "\n",
    "# 3.\n",
    "def main():\n",
    "  introduction()\n",
    "\n",
    "  # 5. THe program will continue to run as longa s the user enters a correct passowrd\n",
    "  # lets assign a password as 7, 1, 8\n",
    "\n",
    "  # 6. Prompt the user to enter 3 integer values\n",
    "  num1 = int(input('Please enter the first number: '))\n",
    "  num2 = int(input('Please enter the second number: '))\n",
    "  num3 = int(input('Please enter the third number: '))\n",
    "\n",
    "  # 7. Print the data that was entered\n",
    "  print(f'The numbers entered are {num1}, {num2}, and {num3}')\n",
    "\n",
    "  # 10. Create a varaible to set as a password and prompt user to enter password\n",
    "  password = input('Please enter the password')\n",
    "\n",
    "  # 8. Create a sentinel while loop\n",
    "  # while num1 == 7 and num2 == 1 and num3 == 8:\n",
    "\n",
    "  # 11. For dog example\n",
    "  while password == 'dog':\n",
    "    # print('Finding the average...')\n",
    "\n",
    "    # 13. Take output from find_average\n",
    "    avg = find_average(num1, num2, num3)\n",
    "    print(f'The average is: {avg}')\n",
    "\n",
    "\n",
    "    print('Comparing each number to the average...')\n",
    "\n",
    "    # 9. Prompt the user to enter the next set of data\n",
    "    num1 = int(input('Please enter the first number: '))\n",
    "    num2 = int(input('Please enter the second number: '))\n",
    "    num3 = int(input('Please enter the third number: '))\n",
    "    password = input('Please enter the password')\n",
    "\n",
    "# 4.\n",
    "main()"
   ]
  },
  {
   "cell_type": "markdown",
   "metadata": {},
   "source": []
  },
  {
   "cell_type": "markdown",
   "metadata": {},
   "source": [
    "**The 5 Steps For Data Analysis**\n",
    "- The process of examining data to find insights\n",
    "- Extracting information or knowledge from data\n",
    "- Exploratory process\n",
    "- Very valuable skill\n",
    "- Applicable to all fields"
   ]
  },
  {
   "cell_type": "markdown",
   "metadata": {},
   "source": [
    "## Pandas\n",
    "- Python package for data analysis\n",
    "- Provides built-in data structures whichsimplify the manipuation and analysis of data sets"
   ]
  },
  {
   "cell_type": "markdown",
   "metadata": {},
   "source": [
    "**Pandas: Essential Concepts**\n",
    "- Series\n",
    "  - a dictionary with a list as the value\n",
    "    - ex. {'grades': [50, 80, 90, 100, 35]}\n",
    "- DataFrame\n",
    "  - a collection of series (dictionary of series)\n",
    "    - ex. {  \n",
    "      &nbsp;&nbsp;{'names': ['bob', 'joe', 'mary', 'tom', 'jack']},   \n",
    "      &nbsp;&nbsp;{'grades': [50, 80, 90, 100, 35]}  \n",
    "    }\n",
    "  - can be used to create a virtual table; keys are column names\n",
    "  - ALL lists MUST have the same amount of data points"
   ]
  },
  {
   "cell_type": "markdown",
   "metadata": {},
   "source": [
    "**DataFrame Methods**\n",
    "- .head() \n",
    "  - returns the first five rows of the dataset\n",
    "- .head(n) \n",
    "  - returns the first n rows of the dataset\n",
    "- .tail()\n",
    "  - returns the last five rows of the dataset\n",
    "- .tail(n)\n",
    "  - returns the last n rows of the dataset\n",
    "- .shape()\n",
    "  - returns a tuple of dimensions of the dataset (num of rows, num of cols)\n",
    "- .describe()\n",
    "  - returns a dataframe containing statistics of the columns\n",
    "- .T\n",
    "  - returns a transpose of the dataset; row values get swapped with column values\n",
    "- .sort_index(axis=1, ascending=False) \n",
    "  - sorts dataset: 0 sort rows, 1 sort columns\n",
    "  - ascending=True sets columns to alphabetical order, ascending=False sorts columns by reverse alphabetical order\n",
    "  - axis=0, ascending=False makes it so that rows with larger indexes are listed first\n",
    "  - axis=0 refers to row, axis=1 refers to column\n",
    "- .sort_values(by='column')\n",
    "  - sorts a column in ascending order\n",
    "- .sort_values(by='column', ascending=False)\n",
    "  - sorts the datframe by descending order\n",
    "- Dataframe['column_name']\n",
    "  - returns a specific column\n",
    "- Dataframe['start_row_num':'end_row_num]\n",
    "  - returns the specific rows in the dataframe\n",
    "- Boolean Indexing\n",
    "  - returns values of specified condiiton\n",
    "- ~ operator\n",
    "  - returns the opposite/inverse condition of specified condition"
   ]
  }
 ],
 "metadata": {
  "kernelspec": {
   "display_name": "Python 3",
   "language": "python",
   "name": "python3"
  },
  "language_info": {
   "codemirror_mode": {
    "name": "ipython",
    "version": 3
   },
   "file_extension": ".py",
   "mimetype": "text/x-python",
   "name": "python",
   "nbconvert_exporter": "python",
   "pygments_lexer": "ipython3",
   "version": "3.11.5"
  },
  "orig_nbformat": 4
 },
 "nbformat": 4,
 "nbformat_minor": 2
}
