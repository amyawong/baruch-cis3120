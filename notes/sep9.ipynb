{
 "cells": [
  {
   "cell_type": "markdown",
   "metadata": {},
   "source": [
    "1. Import libraries"
   ]
  },
  {
   "cell_type": "code",
   "execution_count": 26,
   "metadata": {},
   "outputs": [],
   "source": [
    "import requests\n",
    "from bs4 import BeautifulSoup"
   ]
  },
  {
   "cell_type": "markdown",
   "metadata": {},
   "source": [
    "2. Set URL"
   ]
  },
  {
   "cell_type": "code",
   "execution_count": 27,
   "metadata": {},
   "outputs": [],
   "source": [
    "url = \"https://avinashjairam.github.io/tableExample1.html\""
   ]
  },
  {
   "cell_type": "markdown",
   "metadata": {},
   "source": [
    "3. Make a request to the server the website is hosted on"
   ]
  },
  {
   "cell_type": "code",
   "execution_count": 28,
   "metadata": {},
   "outputs": [],
   "source": [
    "page = requests.get(url)"
   ]
  },
  {
   "cell_type": "markdown",
   "metadata": {},
   "source": [
    "4. Check status code"
   ]
  },
  {
   "cell_type": "code",
   "execution_count": 37,
   "metadata": {},
   "outputs": [
    {
     "data": {
      "text/plain": [
       "200"
      ]
     },
     "execution_count": 37,
     "metadata": {},
     "output_type": "execute_result"
    }
   ],
   "source": [
    "page.status_code"
   ]
  },
  {
   "cell_type": "markdown",
   "metadata": {},
   "source": [
    "5. Look at raw HTML"
   ]
  },
  {
   "cell_type": "code",
   "execution_count": 30,
   "metadata": {},
   "outputs": [
    {
     "data": {
      "text/plain": [
       "b\"<html>\\n<head>\\n\\n<title>Table Scraping: Ex. #1</title>\\n\\n<style>\\ntable, th, td {\\n  border: 1px solid black;\\n  border-collapse: collapse;\\n}\\nth, td {\\n  padding: 5px;\\n  text-align: left;\\n}\\n</style>\\n</head>\\n\\n\\n<body>\\n\\n<h2>Monthly Savings</h2>\\n<p>Let's Track Our Savings</p>\\n\\n<table>\\n  <caption>Monthly Savings</caption>\\n  <tr>\\n    <th>Month</th>\\n    <th>Savings</th>\\n  </tr>\\n  <tr>\\n    <td>January</td>\\n    <td>$100</td>\\n  </tr>\\n  <tr>\\n    <td>February</td>\\n    <td>$50</td>\\n  </tr>\\n\\n <tr>\\n    <td>March</td>\\n    <td>$340</td>\\n  </tr>\\n  <tr>\\n    <td>April</td>\\n    <td>$50</td>\\n  </tr>\\n\\n <tr>\\n    <td>May</td>\\n    <td>$10</td>\\n  </tr>\\n  <tr>\\n    <td>June</td>\\n    <td>$5</td>\\n  </tr>\\n\\n <tr>\\n    <td>July</td>\\n    <td>$210</td>\\n  </tr>\\n  <tr>\\n    <td>August</td>\\n    <td>$54</td>\\n  </tr>\\n\\n <tr>\\n    <td>September</td>\\n    <td>$20</td>\\n  </tr>\\n\\n  <tr>\\n    <td>October</td>\\n    <td>$0</td>\\n  </tr>\\n\\n  <tr>\\n    <td>November</td>\\n    <td>$400</td>\\n  </tr>\\n\\n  <tr>\\n    <td>December</td>\\n    <td>$2</td>\\n  </tr>\\n\\n</table>\\n\\n\\n</body>\\n\\n\\n</html>\""
      ]
     },
     "execution_count": 30,
     "metadata": {},
     "output_type": "execute_result"
    }
   ],
   "source": [
    "page.content"
   ]
  },
  {
   "cell_type": "markdown",
   "metadata": {},
   "source": [
    "6. Import the raw HTML into BeautifulSoup"
   ]
  },
  {
   "cell_type": "code",
   "execution_count": 31,
   "metadata": {},
   "outputs": [],
   "source": [
    "soup = BeautifulSoup(page.content, 'html.parser')"
   ]
  },
  {
   "cell_type": "markdown",
   "metadata": {},
   "source": [
    "7. Look at formatted HTML via print statement and prettify()"
   ]
  },
  {
   "cell_type": "code",
   "execution_count": 32,
   "metadata": {},
   "outputs": [
    {
     "name": "stdout",
     "output_type": "stream",
     "text": [
      "<html>\n",
      " <head>\n",
      "  <title>\n",
      "   Table Scraping: Ex. #1\n",
      "  </title>\n",
      "  <style>\n",
      "   table, th, td {\n",
      "  border: 1px solid black;\n",
      "  border-collapse: collapse;\n",
      "}\n",
      "th, td {\n",
      "  padding: 5px;\n",
      "  text-align: left;\n",
      "}\n",
      "  </style>\n",
      " </head>\n",
      " <body>\n",
      "  <h2>\n",
      "   Monthly Savings\n",
      "  </h2>\n",
      "  <p>\n",
      "   Let's Track Our Savings\n",
      "  </p>\n",
      "  <table>\n",
      "   <caption>\n",
      "    Monthly Savings\n",
      "   </caption>\n",
      "   <tr>\n",
      "    <th>\n",
      "     Month\n",
      "    </th>\n",
      "    <th>\n",
      "     Savings\n",
      "    </th>\n",
      "   </tr>\n",
      "   <tr>\n",
      "    <td>\n",
      "     January\n",
      "    </td>\n",
      "    <td>\n",
      "     $100\n",
      "    </td>\n",
      "   </tr>\n",
      "   <tr>\n",
      "    <td>\n",
      "     February\n",
      "    </td>\n",
      "    <td>\n",
      "     $50\n",
      "    </td>\n",
      "   </tr>\n",
      "   <tr>\n",
      "    <td>\n",
      "     March\n",
      "    </td>\n",
      "    <td>\n",
      "     $340\n",
      "    </td>\n",
      "   </tr>\n",
      "   <tr>\n",
      "    <td>\n",
      "     April\n",
      "    </td>\n",
      "    <td>\n",
      "     $50\n",
      "    </td>\n",
      "   </tr>\n",
      "   <tr>\n",
      "    <td>\n",
      "     May\n",
      "    </td>\n",
      "    <td>\n",
      "     $10\n",
      "    </td>\n",
      "   </tr>\n",
      "   <tr>\n",
      "    <td>\n",
      "     June\n",
      "    </td>\n",
      "    <td>\n",
      "     $5\n",
      "    </td>\n",
      "   </tr>\n",
      "   <tr>\n",
      "    <td>\n",
      "     July\n",
      "    </td>\n",
      "    <td>\n",
      "     $210\n",
      "    </td>\n",
      "   </tr>\n",
      "   <tr>\n",
      "    <td>\n",
      "     August\n",
      "    </td>\n",
      "    <td>\n",
      "     $54\n",
      "    </td>\n",
      "   </tr>\n",
      "   <tr>\n",
      "    <td>\n",
      "     September\n",
      "    </td>\n",
      "    <td>\n",
      "     $20\n",
      "    </td>\n",
      "   </tr>\n",
      "   <tr>\n",
      "    <td>\n",
      "     October\n",
      "    </td>\n",
      "    <td>\n",
      "     $0\n",
      "    </td>\n",
      "   </tr>\n",
      "   <tr>\n",
      "    <td>\n",
      "     November\n",
      "    </td>\n",
      "    <td>\n",
      "     $400\n",
      "    </td>\n",
      "   </tr>\n",
      "   <tr>\n",
      "    <td>\n",
      "     December\n",
      "    </td>\n",
      "    <td>\n",
      "     $2\n",
      "    </td>\n",
      "   </tr>\n",
      "  </table>\n",
      " </body>\n",
      "</html>\n",
      "\n"
     ]
    }
   ],
   "source": [
    "print(soup.prettify())"
   ]
  },
  {
   "cell_type": "markdown",
   "metadata": {},
   "source": [
    "8. Locate all table rows on the page"
   ]
  },
  {
   "cell_type": "code",
   "execution_count": 33,
   "metadata": {},
   "outputs": [
    {
     "data": {
      "text/plain": [
       "[<tr>\n",
       " <th>Month</th>\n",
       " <th>Savings</th>\n",
       " </tr>,\n",
       " <tr>\n",
       " <td>January</td>\n",
       " <td>$100</td>\n",
       " </tr>,\n",
       " <tr>\n",
       " <td>February</td>\n",
       " <td>$50</td>\n",
       " </tr>,\n",
       " <tr>\n",
       " <td>March</td>\n",
       " <td>$340</td>\n",
       " </tr>,\n",
       " <tr>\n",
       " <td>April</td>\n",
       " <td>$50</td>\n",
       " </tr>,\n",
       " <tr>\n",
       " <td>May</td>\n",
       " <td>$10</td>\n",
       " </tr>,\n",
       " <tr>\n",
       " <td>June</td>\n",
       " <td>$5</td>\n",
       " </tr>,\n",
       " <tr>\n",
       " <td>July</td>\n",
       " <td>$210</td>\n",
       " </tr>,\n",
       " <tr>\n",
       " <td>August</td>\n",
       " <td>$54</td>\n",
       " </tr>,\n",
       " <tr>\n",
       " <td>September</td>\n",
       " <td>$20</td>\n",
       " </tr>,\n",
       " <tr>\n",
       " <td>October</td>\n",
       " <td>$0</td>\n",
       " </tr>,\n",
       " <tr>\n",
       " <td>November</td>\n",
       " <td>$400</td>\n",
       " </tr>,\n",
       " <tr>\n",
       " <td>December</td>\n",
       " <td>$2</td>\n",
       " </tr>]"
      ]
     },
     "execution_count": 33,
     "metadata": {},
     "output_type": "execute_result"
    }
   ],
   "source": [
    "rows = soup.find_all('tr')\n",
    "rows"
   ]
  },
  {
   "cell_type": "markdown",
   "metadata": {},
   "source": [
    "9. Use a for loop to iterate over list"
   ]
  },
  {
   "cell_type": "code",
   "execution_count": 34,
   "metadata": {},
   "outputs": [],
   "source": [
    "months = []\n",
    "savings = []\n",
    "\n",
    "for row in rows:\n",
    "  # print(row.find_all('td')) # first row prints empty\n",
    "\n",
    "  # extracts all cells in each row of the table which are built using <td> tags\n",
    "  cells = row.find_all('td')\n",
    "  # print(cells, len(cells))\n",
    "\n",
    "  if len(cells) == 2:\n",
    "    # print(cells[0], cells[1]) # this prints the tags (i.e. <td>January</td> <td>$100</td>) but not the actual text\n",
    "    # print(cells[0].get_text(), cells[1].get_text()) # prints: January $100 \\n Feburary $50 \\n March $340 etc.\n",
    "\n",
    "    month = cells[0].get_text()\n",
    "    money = float(cells[1].get_text()[1:]) # slice off $ then turn from string type into a float so that numbers can be added\n",
    "    # print(type(month), type(money))\n",
    "\n",
    "    months.append(month)\n",
    "    savings.append(money)\n",
    "\n",
    "# print(months, savings)  # prints: ['January', 'February', 'March', 'April', 'May', 'June', 'July', 'August', 'September', 'October', 'November', 'December'] [100.0, 50.0, 340.0, 50.0, 10.0, 5.0, 210.0, 54.0, 20.0, 0.0, 400.0, 2.0]"
   ]
  },
  {
   "cell_type": "markdown",
   "metadata": {},
   "source": [
    "10. DataFrame"
   ]
  },
  {
   "cell_type": "code",
   "execution_count": 41,
   "metadata": {},
   "outputs": [
    {
     "data": {
      "text/html": [
       "<div>\n",
       "<style scoped>\n",
       "    .dataframe tbody tr th:only-of-type {\n",
       "        vertical-align: middle;\n",
       "    }\n",
       "\n",
       "    .dataframe tbody tr th {\n",
       "        vertical-align: top;\n",
       "    }\n",
       "\n",
       "    .dataframe thead th {\n",
       "        text-align: right;\n",
       "    }\n",
       "</style>\n",
       "<table border=\"1\" class=\"dataframe\">\n",
       "  <thead>\n",
       "    <tr style=\"text-align: right;\">\n",
       "      <th></th>\n",
       "      <th>Months</th>\n",
       "      <th>Savings</th>\n",
       "    </tr>\n",
       "  </thead>\n",
       "  <tbody>\n",
       "    <tr>\n",
       "      <th>0</th>\n",
       "      <td>January</td>\n",
       "      <td>100.0</td>\n",
       "    </tr>\n",
       "    <tr>\n",
       "      <th>1</th>\n",
       "      <td>February</td>\n",
       "      <td>50.0</td>\n",
       "    </tr>\n",
       "    <tr>\n",
       "      <th>2</th>\n",
       "      <td>March</td>\n",
       "      <td>340.0</td>\n",
       "    </tr>\n",
       "    <tr>\n",
       "      <th>3</th>\n",
       "      <td>April</td>\n",
       "      <td>50.0</td>\n",
       "    </tr>\n",
       "    <tr>\n",
       "      <th>4</th>\n",
       "      <td>May</td>\n",
       "      <td>10.0</td>\n",
       "    </tr>\n",
       "    <tr>\n",
       "      <th>5</th>\n",
       "      <td>June</td>\n",
       "      <td>5.0</td>\n",
       "    </tr>\n",
       "    <tr>\n",
       "      <th>6</th>\n",
       "      <td>July</td>\n",
       "      <td>210.0</td>\n",
       "    </tr>\n",
       "    <tr>\n",
       "      <th>7</th>\n",
       "      <td>August</td>\n",
       "      <td>54.0</td>\n",
       "    </tr>\n",
       "    <tr>\n",
       "      <th>8</th>\n",
       "      <td>September</td>\n",
       "      <td>20.0</td>\n",
       "    </tr>\n",
       "    <tr>\n",
       "      <th>9</th>\n",
       "      <td>October</td>\n",
       "      <td>0.0</td>\n",
       "    </tr>\n",
       "    <tr>\n",
       "      <th>10</th>\n",
       "      <td>November</td>\n",
       "      <td>400.0</td>\n",
       "    </tr>\n",
       "    <tr>\n",
       "      <th>11</th>\n",
       "      <td>December</td>\n",
       "      <td>2.0</td>\n",
       "    </tr>\n",
       "  </tbody>\n",
       "</table>\n",
       "</div>"
      ],
      "text/plain": [
       "       Months  Savings\n",
       "0     January    100.0\n",
       "1    February     50.0\n",
       "2       March    340.0\n",
       "3       April     50.0\n",
       "4         May     10.0\n",
       "5        June      5.0\n",
       "6        July    210.0\n",
       "7      August     54.0\n",
       "8   September     20.0\n",
       "9     October      0.0\n",
       "10   November    400.0\n",
       "11   December      2.0"
      ]
     },
     "execution_count": 41,
     "metadata": {},
     "output_type": "execute_result"
    }
   ],
   "source": [
    "import pandas as pd\n",
    "\n",
    "monthly_savings = {\n",
    "  'Months': months,\n",
    "  'Savings': savings\n",
    "}\n",
    "\n",
    "df = pd.DataFrame(monthly_savings)\n",
    "# df is a virtual table that exists within python\n",
    "\n",
    "df"
   ]
  },
  {
   "cell_type": "markdown",
   "metadata": {},
   "source": [
    "11. Export as a csv file"
   ]
  },
  {
   "cell_type": "code",
   "execution_count": 39,
   "metadata": {},
   "outputs": [],
   "source": [
    "df.to_csv('monthly_savings.csv', index=False)\n",
    "# first argument is the name of the file\n",
    "# running this line will create a file on local machine"
   ]
  },
  {
   "cell_type": "markdown",
   "metadata": {},
   "source": [
    "12. Get stats of table"
   ]
  },
  {
   "cell_type": "code",
   "execution_count": 42,
   "metadata": {},
   "outputs": [
    {
     "data": {
      "text/html": [
       "<div>\n",
       "<style scoped>\n",
       "    .dataframe tbody tr th:only-of-type {\n",
       "        vertical-align: middle;\n",
       "    }\n",
       "\n",
       "    .dataframe tbody tr th {\n",
       "        vertical-align: top;\n",
       "    }\n",
       "\n",
       "    .dataframe thead th {\n",
       "        text-align: right;\n",
       "    }\n",
       "</style>\n",
       "<table border=\"1\" class=\"dataframe\">\n",
       "  <thead>\n",
       "    <tr style=\"text-align: right;\">\n",
       "      <th></th>\n",
       "      <th>Savings</th>\n",
       "    </tr>\n",
       "  </thead>\n",
       "  <tbody>\n",
       "    <tr>\n",
       "      <th>count</th>\n",
       "      <td>12.000000</td>\n",
       "    </tr>\n",
       "    <tr>\n",
       "      <th>mean</th>\n",
       "      <td>103.416667</td>\n",
       "    </tr>\n",
       "    <tr>\n",
       "      <th>std</th>\n",
       "      <td>138.105663</td>\n",
       "    </tr>\n",
       "    <tr>\n",
       "      <th>min</th>\n",
       "      <td>0.000000</td>\n",
       "    </tr>\n",
       "    <tr>\n",
       "      <th>25%</th>\n",
       "      <td>8.750000</td>\n",
       "    </tr>\n",
       "    <tr>\n",
       "      <th>50%</th>\n",
       "      <td>50.000000</td>\n",
       "    </tr>\n",
       "    <tr>\n",
       "      <th>75%</th>\n",
       "      <td>127.500000</td>\n",
       "    </tr>\n",
       "    <tr>\n",
       "      <th>max</th>\n",
       "      <td>400.000000</td>\n",
       "    </tr>\n",
       "  </tbody>\n",
       "</table>\n",
       "</div>"
      ],
      "text/plain": [
       "          Savings\n",
       "count   12.000000\n",
       "mean   103.416667\n",
       "std    138.105663\n",
       "min      0.000000\n",
       "25%      8.750000\n",
       "50%     50.000000\n",
       "75%    127.500000\n",
       "max    400.000000"
      ]
     },
     "execution_count": 42,
     "metadata": {},
     "output_type": "execute_result"
    }
   ],
   "source": [
    "df.describe()"
   ]
  }
 ],
 "metadata": {
  "kernelspec": {
   "display_name": "Python 3",
   "language": "python",
   "name": "python3"
  },
  "language_info": {
   "codemirror_mode": {
    "name": "ipython",
    "version": 3
   },
   "file_extension": ".py",
   "mimetype": "text/x-python",
   "name": "python",
   "nbconvert_exporter": "python",
   "pygments_lexer": "ipython3",
   "version": "3.11.5"
  },
  "orig_nbformat": 4
 },
 "nbformat": 4,
 "nbformat_minor": 2
}
