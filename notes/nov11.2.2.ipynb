{
 "cells": [
  {
   "cell_type": "markdown",
   "metadata": {},
   "source": [
    "### Pandas DataFrame Example"
   ]
  },
  {
   "cell_type": "markdown",
   "metadata": {},
   "source": [
    "1. Import libraries"
   ]
  },
  {
   "cell_type": "code",
   "execution_count": 10,
   "metadata": {},
   "outputs": [],
   "source": [
    "import pandas as pd\n",
    "\n",
    "data = {\n",
    "  'first_name': 'Spider',\n",
    "  'last_name': 'Web',\n",
    "  'location': 'World Wide Web',\n",
    "  'websites': [\n",
    "    {\n",
    "      'description': 'work',\n",
    "      'URL': 'https://www.google.com/',\n",
    "      'visitor_count': 4010\n",
    "    },\n",
    "    {\n",
    "      'description': 'tutorials',\n",
    "      'URL': 'https://www.bbhosted.cuny.edu',\n",
    "      'visitor_count': 2131\n",
    "    },\n",
    "    {\n",
    "      'description': 'e-commerce',\n",
    "      'URL': 'https://www.amazon.com',\n",
    "      'visitor_count': 20120\n",
    "    },\n",
    "    {\n",
    "      'description': 'sports',\n",
    "      'URL': 'https://www.espn.com',\n",
    "      'visitor_count': 2221\n",
    "    }\n",
    "  ],\n",
    "  'social_media': [\n",
    "    {\n",
    "      'description': 'twitter',\n",
    "      'link': 'https://www.twitter.com/spider'\n",
    "    },\n",
    "    {\n",
    "      'description': 'facebook',\n",
    "      'link': 'https://www.facebook.com/spider'\n",
    "    },\n",
    "    {\n",
    "      'description': 'github',\n",
    "      'link': 'https://www.github.com/spider'\n",
    "    },\n",
    "  ]\n",
    "}"
   ]
  },
  {
   "cell_type": "markdown",
   "metadata": {},
   "source": [
    "2. Create empty lists to store sites and links"
   ]
  },
  {
   "cell_type": "code",
   "execution_count": 11,
   "metadata": {},
   "outputs": [],
   "source": [
    "sites = []\n",
    "links = []"
   ]
  },
  {
   "cell_type": "markdown",
   "metadata": {},
   "source": [
    "3. Retrieve sites and links"
   ]
  },
  {
   "cell_type": "code",
   "execution_count": 12,
   "metadata": {},
   "outputs": [
    {
     "name": "stdout",
     "output_type": "stream",
     "text": [
      "['work', 'tutorials', 'e-commerce', 'sports', 'twitter', 'facebook', 'github']\n",
      "['https://www.google.com/', 'https://www.bbhosted.cuny.edu', 'https://www.amazon.com', 'https://www.espn.com', 'https://www.twitter.com/spider', 'https://www.facebook.com/spider', 'https://www.github.com/spider']\n"
     ]
    }
   ],
   "source": [
    "for x in data['websites']:\n",
    "  sites.append(x['description'])\n",
    "  links.append(x['URL'])\n",
    "\n",
    "for x in data['social_media']:\n",
    "  sites.append(x['description'])\n",
    "  links.append(x['link'])\n",
    "\n",
    "print(sites)\n",
    "print(links)"
   ]
  },
  {
   "cell_type": "markdown",
   "metadata": {},
   "source": [
    "4. Create dataframe"
   ]
  },
  {
   "cell_type": "code",
   "execution_count": 13,
   "metadata": {},
   "outputs": [
    {
     "data": {
      "text/html": [
       "<div>\n",
       "<style scoped>\n",
       "    .dataframe tbody tr th:only-of-type {\n",
       "        vertical-align: middle;\n",
       "    }\n",
       "\n",
       "    .dataframe tbody tr th {\n",
       "        vertical-align: top;\n",
       "    }\n",
       "\n",
       "    .dataframe thead th {\n",
       "        text-align: right;\n",
       "    }\n",
       "</style>\n",
       "<table border=\"1\" class=\"dataframe\">\n",
       "  <thead>\n",
       "    <tr style=\"text-align: right;\">\n",
       "      <th></th>\n",
       "      <th>Name</th>\n",
       "      <th>URL</th>\n",
       "    </tr>\n",
       "  </thead>\n",
       "  <tbody>\n",
       "    <tr>\n",
       "      <th>0</th>\n",
       "      <td>work</td>\n",
       "      <td>https://www.google.com/</td>\n",
       "    </tr>\n",
       "    <tr>\n",
       "      <th>1</th>\n",
       "      <td>tutorials</td>\n",
       "      <td>https://www.bbhosted.cuny.edu</td>\n",
       "    </tr>\n",
       "    <tr>\n",
       "      <th>2</th>\n",
       "      <td>e-commerce</td>\n",
       "      <td>https://www.amazon.com</td>\n",
       "    </tr>\n",
       "    <tr>\n",
       "      <th>3</th>\n",
       "      <td>sports</td>\n",
       "      <td>https://www.espn.com</td>\n",
       "    </tr>\n",
       "    <tr>\n",
       "      <th>4</th>\n",
       "      <td>twitter</td>\n",
       "      <td>https://www.twitter.com/spider</td>\n",
       "    </tr>\n",
       "    <tr>\n",
       "      <th>5</th>\n",
       "      <td>facebook</td>\n",
       "      <td>https://www.facebook.com/spider</td>\n",
       "    </tr>\n",
       "    <tr>\n",
       "      <th>6</th>\n",
       "      <td>github</td>\n",
       "      <td>https://www.github.com/spider</td>\n",
       "    </tr>\n",
       "  </tbody>\n",
       "</table>\n",
       "</div>"
      ],
      "text/plain": [
       "         Name                              URL\n",
       "0        work          https://www.google.com/\n",
       "1   tutorials    https://www.bbhosted.cuny.edu\n",
       "2  e-commerce           https://www.amazon.com\n",
       "3      sports             https://www.espn.com\n",
       "4     twitter   https://www.twitter.com/spider\n",
       "5    facebook  https://www.facebook.com/spider\n",
       "6      github    https://www.github.com/spider"
      ]
     },
     "execution_count": 13,
     "metadata": {},
     "output_type": "execute_result"
    }
   ],
   "source": [
    "df = pd.DataFrame({\n",
    "  'Name': sites,\n",
    "  'URL': links\n",
    "})\n",
    "\n",
    "df"
   ]
  }
 ],
 "metadata": {
  "kernelspec": {
   "display_name": "Python 3",
   "language": "python",
   "name": "python3"
  },
  "language_info": {
   "codemirror_mode": {
    "name": "ipython",
    "version": 3
   },
   "file_extension": ".py",
   "mimetype": "text/x-python",
   "name": "python",
   "nbconvert_exporter": "python",
   "pygments_lexer": "ipython3",
   "version": "3.11.5"
  }
 },
 "nbformat": 4,
 "nbformat_minor": 2
}
