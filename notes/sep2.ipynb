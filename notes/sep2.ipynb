{
 "cells": [
  {
   "cell_type": "markdown",
   "metadata": {},
   "source": [
    "**Program #1**  \n",
    "Write a complete python program, including at least one good comment at the top, to do the following: Your program will compute values of a formula that expresses y in terms\n",
    "of x. The formula is:  \n",
    "  \n",
    "| | means absolute value; (...)1/2 means square root  \n",
    "You should use library functions for square root and absolute value. For example:  \n",
    "import math  \n",
    "math.sqrt(insert_number_here)  \n",
    "abs(insert_number_here)"
   ]
  },
  {
   "cell_type": "markdown",
   "metadata": {},
   "source": [
    "1. The program should start by printing a message giving your name and saying this is the output of your first program.  "
   ]
  },
  {
   "cell_type": "code",
   "execution_count": 6,
   "metadata": {},
   "outputs": [
    {
     "name": "stdout",
     "output_type": "stream",
     "text": [
      "Amy\n",
      "This is the first output of the program\n"
     ]
    }
   ],
   "source": [
    "print('Amy')\n",
    "print('This is the first output of the program')"
   ]
  },
  {
   "cell_type": "markdown",
   "metadata": {},
   "source": [
    "2. Then your program should evaluate the formula shown above, starting with x = -3, going up by 0.5 each time until it reaches 4.0. Therefore, your program will use these values for x: -3, -2.5, ..., -0.5, 0, 0.5, 1, ..., 3.0, 3.5, 4.0. "
   ]
  },
  {
   "cell_type": "code",
   "execution_count": 7,
   "metadata": {},
   "outputs": [],
   "source": [
    "x = 1\n",
    "\n",
    "# 1. Solve for the numerator\n",
    "numerator = 4 * x ** 3 - 12 * x ** 2 - 9 * x + 27\n",
    "# print(numerator)  # prints: 10\n",
    "\n",
    "# 2. Solve for the denominator\n",
    "import math\n",
    "# alternative way to get square root rather than doing 4 ** 0.5: math.sqrt(4)\n",
    "denominator = math.sqrt(5 * x ** 2 + 2) + 3 * abs(x - 2.5)\n",
    "# print(denominator) # prints: 7.145751311064591\n",
    "\n",
    "# 3. Divide numerator by denominator\n",
    "y = numerator / denominator\n",
    "# print(y) # prints: 1.399432972781441"
   ]
  },
  {
   "cell_type": "markdown",
   "metadata": {},
   "source": [
    "For each x value, the program should compute the corresponding y value. It should print these values together with explanations of what the values represent. For example, it could print the string \"X = \", then the value of x, the string \"Y = \", the value of y, and a message. (It is also possible to use column headings and have your numbers underneath the headings.)  \n",
    "\n",
    "The message should say one of three things (on the same line as the values):  \n",
    "  \n",
    "If the value of y is exactly 0, the message should say Y IS ZERO.  \n",
    "If the value is positive, the message should say Y IS POSITIVE.  \n",
    "If the value is negative, the message should say Y IS NEGATIVE.  \n",
    "  \n",
    "A typical line of output would look like this (or the values of x and y can appear underneath column headings):  \n",
    "X = -1 Y = 0 Y IS ZERO (actually, this one will not be zero) all on one line"
   ]
  },
  {
   "cell_type": "markdown",
   "metadata": {},
   "source": [
    "3. Once you have finished using x = 4.0, the program should print a message (underneath the last line of output) saying that your first program is complete, then stop."
   ]
  },
  {
   "cell_type": "code",
   "execution_count": 8,
   "metadata": {},
   "outputs": [
    {
     "name": "stdout",
     "output_type": "stream",
     "text": [
      "x = -3, y = -6.9362217746283275 {'Y IS NEGATIVE'}\n",
      "x = -2.5, y = -4.2376388309490745 {'Y IS NEGATIVE'}\n",
      "x = -2.0, y = -1.9240901616610293 {'Y IS NEGATIVE'}\n",
      "x = -1.5, y = 0.0 {'Y IS ZERO'}\n",
      "x = -1.0, y = 1.5214041043942683 {'Y IS POSITIVE'}\n",
      "x = -0.5, y = 2.5919264584373525 {'Y IS POSITIVE'}\n",
      "x = 0.0, y = 3.0288706694179983 {'Y IS POSITIVE'}\n",
      "x = 0.5, y = 2.563190450240003 {'Y IS POSITIVE'}\n",
      "x = 1.0, y = 1.399432972781441 {'Y IS POSITIVE'}\n",
      "x = 1.5, y = 0.0 {'Y IS ZERO'}\n",
      "x = 2.0, y = -1.1307802693045066 {'Y IS NEGATIVE'}\n",
      "x = 2.5, y = -1.387375951238592 {'Y IS NEGATIVE'}\n",
      "x = 3.0, y = 0.0 {'Y IS ZERO'}\n",
      "x = 3.5, y = 1.8259859392786852 {'Y IS POSITIVE'}\n",
      "x = 4.0, y = 4.057428058260047 {'Y IS POSITIVE'}\n",
      "The first program is complete\n"
     ]
    }
   ],
   "source": [
    "x = -3\n",
    "while x <= 4:\n",
    "    # print(x)  # prints: 0.0 0.5 1.0 1.5 2.0 2.5 3.0 3.5 4.0\n",
    "    numerator = 4 * x ** 3 - 12 * x ** 2 - 9 * x + 27\n",
    "    denominator = math.sqrt(5 * x ** 2 + 2) + 3 * abs(x - 2.5)\n",
    "    # print(f'x = {x}, numerator = {numerator}, denominator = {denominator}')\n",
    "    y = numerator / denominator\n",
    "\n",
    "    if y < 0:\n",
    "        message = 'Y IS NEGATIVE'\n",
    "    elif y > 0:\n",
    "        message = 'Y IS POSITIVE'\n",
    "    else: # this last statement only gets executed if statements above are all false\n",
    "    # elif y == 0:  # alternatively can use this instead of else:\n",
    "        message = 'Y IS ZERO'\n",
    "\n",
    "    print(f'x = {x}, y = {y}', {message})\n",
    "\n",
    "    x += 0.5\n",
    "\n",
    "print('The first program is complete')"
   ]
  },
  {
   "cell_type": "markdown",
   "metadata": {},
   "source": []
  },
  {
   "cell_type": "markdown",
   "metadata": {},
   "source": [
    "**Web Scraping**  \n",
    "- Writing a computer program to download the html code from a webpage\n",
    "- Parsing (filtering) through the downloaded code and looking for certain keywords\n",
    "- Extracting lines associated with such keywords\n",
    "- Allows to easily extract data from tables on a webpage and export to secondary storage"
   ]
  },
  {
   "cell_type": "markdown",
   "metadata": {},
   "source": [
    "**Ethical Use of Web Scraping**\n",
    "- A web scraping program which is requesting a web page is identical to a user opening a browser and going to that page\n",
    "- Thus, the same resources are utilized by the webserver regardless of the entity sending the “request”\n",
    "- Computers can access webpages much faster than a human\n",
    "- Hence, irresponsible / malicious web scraping can put a strain on a website’s servers\n",
    " "
   ]
  },
  {
   "cell_type": "markdown",
   "metadata": {},
   "source": [
    "**Challenges to Web Scraping**\n",
    "- Websites differ in layout\n",
    "- Therefore, a “one size fits all” solution is impossible. Each scraping program must be configured appropriately for its intended target site\n",
    "- Websites are constantly changing to reflect the latest styles and content. Hence, the web scraping program has to adapt to keep up\n",
    "- Web scraping programs require constant maintenance"
   ]
  },
  {
   "cell_type": "markdown",
   "metadata": {},
   "source": [
    "**BeautifulSoup**\n",
    "- A python library which allows us to easily extract data from markup languages such as HTML, CSS, XML, etc\n",
    "- Primary goal is to take HTML and transform it into a tree based representation\n",
    "- Identify which HTML tags, ids, and classes are helpful to your research. Your desired content will be near these elements\n",
    "- Extract data and export in your choice of format: e.g. CSV, JSON, XML\n",
    " "
   ]
  },
  {
   "cell_type": "markdown",
   "metadata": {},
   "source": [
    "**How To Scrape a Website Using BeautifulSoup**\n",
    "- Send a HTTP Get request to the webpage via its URL; the website will respond with HTML\n",
    "- Parse this data with Beautifulsoup and store in a data structure (List, Dictionary)\n",
    " \n"
   ]
  },
  {
   "cell_type": "markdown",
   "metadata": {},
   "source": [
    "**BeautifulSoup Methods**\n",
    "- .find()\n",
    "  - returns the first instance of a specified tag on a page\n",
    "- .find_all()\n",
    "  - finds ALL instances of what is passed in and returns a list\n",
    "- .prettify()\n",
    "  - prints the contents of the page in a clear, easy to read format\n",
    "- .children()\n",
    "  - returns a list generator of ALL elements in te page\n",
    "  - to properly view the contents, convert it to a list: list(soup.generator)\n",
    "- .text() and .get_text()\n",
    "  - used to extract data from a tag\n",
    "  - get the same results\n",
    "- .find_parent()\n",
    "- .find_parents()\n",
    "- .find_next_sibling()\n",
    "- .find_next_siblings()\n",
    "- .find_children()"
   ]
  }
 ],
 "metadata": {
  "kernelspec": {
   "display_name": "Python 3",
   "language": "python",
   "name": "python3"
  },
  "language_info": {
   "codemirror_mode": {
    "name": "ipython",
    "version": 3
   },
   "file_extension": ".py",
   "mimetype": "text/x-python",
   "name": "python",
   "nbconvert_exporter": "python",
   "pygments_lexer": "ipython3",
   "version": "3.11.5"
  },
  "orig_nbformat": 4
 },
 "nbformat": 4,
 "nbformat_minor": 2
}
