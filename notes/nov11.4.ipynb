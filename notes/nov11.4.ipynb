{
 "cells": [
  {
   "cell_type": "markdown",
   "metadata": {},
   "source": [
    "### Numpy\n",
    "- stands for numerical python\n",
    "- is a python library package to support numerical computations\n",
    "- the basic data structure in numpy is a multi-dimensional array object called nd array\n",
    "- provides a suite of functions that can efficiently manipuate elements of the ndarray"
   ]
  },
  {
   "cell_type": "markdown",
   "metadata": {},
   "source": [
    "1. Create an ndarray  \n",
    "An ndarray can be created from a list or tuple object"
   ]
  },
  {
   "cell_type": "code",
   "execution_count": 1,
   "metadata": {},
   "outputs": [],
   "source": [
    "import numpy as np"
   ]
  },
  {
   "cell_type": "code",
   "execution_count": 2,
   "metadata": {},
   "outputs": [
    {
     "name": "stdout",
     "output_type": "stream",
     "text": [
      "[1. 2. 3. 4. 5.]\n",
      "Number of dimensions:  1\n",
      "Dimension:  (5,)\n",
      "Size:  5\n",
      "Array type:  float64\n"
     ]
    }
   ],
   "source": [
    "# a one-dimensional array (vector)\n",
    "oneDim = np.array([1.0, 2, 3, 4, 5])\n",
    "\n",
    "print(oneDim)\n",
    "print('Number of dimensions: ', oneDim.ndim)\n",
    "print('Dimension: ', oneDim.shape)\n",
    "print('Size: ', oneDim.size)\n",
    "print('Array type: ', oneDim.dtype)"
   ]
  },
  {
   "cell_type": "code",
   "execution_count": 3,
   "metadata": {},
   "outputs": [
    {
     "name": "stdout",
     "output_type": "stream",
     "text": [
      "[[1 2]\n",
      " [3 4]\n",
      " [5 6]\n",
      " [7 8]]\n",
      "Number of dimensions:  2\n",
      "Dimension:  (4, 2)\n",
      "Size:  8\n",
      "Array type:  int64\n"
     ]
    }
   ],
   "source": [
    "# a two-dimensional array (matrix)\n",
    "twoDim = np.array([[1, 2], [3, 4], [5, 6], [7, 8]])\n",
    "\n",
    "print(twoDim)\n",
    "print('Number of dimensions: ', twoDim.ndim)\n",
    "print('Dimension: ', twoDim.shape)\n",
    "print('Size: ', twoDim.size)\n",
    "print('Array type: ', twoDim.dtype)"
   ]
  },
  {
   "cell_type": "code",
   "execution_count": 4,
   "metadata": {},
   "outputs": [
    {
     "name": "stdout",
     "output_type": "stream",
     "text": [
      "[['1' 'a' '3.0']\n",
      " ['2' 'b' '3.5']]\n",
      "Number of dimensions:  2\n",
      "Dimension:  (2, 3)\n",
      "Size:  6\n"
     ]
    }
   ],
   "source": [
    "# create ndarray from tuple\n",
    "arrFromTuple = np.array([(1, 'a', 3.0), (2, 'b', 3.5)])\n",
    "\n",
    "print(arrFromTuple)\n",
    "print('Number of dimensions: ', arrFromTuple.ndim)\n",
    "print('Dimension: ', arrFromTuple.shape)\n",
    "print('Size: ', arrFromTuple.size)"
   ]
  },
  {
   "cell_type": "markdown",
   "metadata": {},
   "source": [
    "There are several built-in functions in numpy that can be used to create ndarrays"
   ]
  },
  {
   "cell_type": "code",
   "execution_count": 5,
   "metadata": {},
   "outputs": [
    {
     "name": "stdout",
     "output_type": "stream",
     "text": [
      "[0.96638802 0.94774151 0.16307861 0.18827542 0.07469565]\n"
     ]
    }
   ],
   "source": [
    "# random numbers from a uniform distribution between [0, 1]\n",
    "print(np.random.rand(5))"
   ]
  },
  {
   "cell_type": "code",
   "execution_count": 6,
   "metadata": {},
   "outputs": [
    {
     "name": "stdout",
     "output_type": "stream",
     "text": [
      "[ 0.9126412  -1.4887677   2.11805209 -0.31422528  0.4598256 ]\n"
     ]
    }
   ],
   "source": [
    "# random numbers from a normal distribution\n",
    "print(np.random.randn(5))"
   ]
  },
  {
   "cell_type": "code",
   "execution_count": 8,
   "metadata": {},
   "outputs": [
    {
     "name": "stdout",
     "output_type": "stream",
     "text": [
      "[-10  -8  -6  -4  -2   0   2   4   6   8]\n"
     ]
    }
   ],
   "source": [
    "# similar to range but returns ndarray instead of list\n",
    "print(np.arange(-10, 10, 2))"
   ]
  },
  {
   "cell_type": "code",
   "execution_count": 9,
   "metadata": {},
   "outputs": [
    {
     "name": "stdout",
     "output_type": "stream",
     "text": [
      "[[ 0  1  2  3]\n",
      " [ 4  5  6  7]\n",
      " [ 8  9 10 11]]\n"
     ]
    }
   ],
   "source": [
    "# reshape to a matrix\n",
    "print(np.arange(12).reshape(3, 4))"
   ]
  },
  {
   "cell_type": "code",
   "execution_count": 11,
   "metadata": {},
   "outputs": [
    {
     "name": "stdout",
     "output_type": "stream",
     "text": [
      "[0.         0.11111111 0.22222222 0.33333333 0.44444444 0.55555556\n",
      " 0.66666667 0.77777778 0.88888889 1.        ]\n"
     ]
    }
   ],
   "source": [
    "# split interval [0, 1] into 10 equally separated values\n",
    "print(np.linspace(0, 1, 10))"
   ]
  },
  {
   "cell_type": "code",
   "execution_count": 12,
   "metadata": {},
   "outputs": [
    {
     "name": "stdout",
     "output_type": "stream",
     "text": [
      "[1.e-03 1.e-02 1.e-01 1.e+00 1.e+01 1.e+02 1.e+03]\n"
     ]
    }
   ],
   "source": [
    "# create ndarray with values from 19^-3 to 10^3\n",
    "print(np.logspace(-3, 3, 7))"
   ]
  },
  {
   "cell_type": "code",
   "execution_count": 13,
   "metadata": {},
   "outputs": [
    {
     "name": "stdout",
     "output_type": "stream",
     "text": [
      "[[0. 0. 0.]\n",
      " [0. 0. 0.]]\n"
     ]
    }
   ],
   "source": [
    "# a matrix of zeros\n",
    "print(np.zeros((2, 3)))"
   ]
  },
  {
   "cell_type": "code",
   "execution_count": 15,
   "metadata": {},
   "outputs": [
    {
     "name": "stdout",
     "output_type": "stream",
     "text": [
      "[[1. 1.]\n",
      " [1. 1.]\n",
      " [1. 1.]]\n"
     ]
    }
   ],
   "source": [
    "# a matrix of ones\n",
    "print(np.ones((3, 2)))"
   ]
  },
  {
   "cell_type": "code",
   "execution_count": 16,
   "metadata": {},
   "outputs": [
    {
     "name": "stdout",
     "output_type": "stream",
     "text": [
      "[[1. 0. 0.]\n",
      " [0. 1. 0.]\n",
      " [0. 0. 1.]]\n"
     ]
    }
   ],
   "source": [
    "# a 3 x 3 identity matrix\n",
    "print(np.eye(3))"
   ]
  },
  {
   "cell_type": "markdown",
   "metadata": {},
   "source": [
    "2. Element-wise Operations\n",
    "Standard operators (such as addition and multiplication) can be applied to each element of the ndarray"
   ]
  },
  {
   "cell_type": "code",
   "execution_count": 20,
   "metadata": {},
   "outputs": [
    {
     "name": "stdout",
     "output_type": "stream",
     "text": [
      "x + 1: [2 3 4 5 6]\n",
      "x - 1: [0 1 2 3 4]\n",
      "x * 2: [ 2  4  6  8 10]\n",
      "x // 2:  [0 1 1 2 2]\n",
      "x ** 2:  [ 1  4  9 16 25]\n",
      "x % 2:  [1 0 1 0 1]\n",
      "1 / x:  [1.         0.5        0.33333333 0.25       0.2       ]\n"
     ]
    }
   ],
   "source": [
    "x = np.array([1, 2, 3, 4, 5])\n",
    "\n",
    "print('x + 1:', x + 1)\n",
    "print('x - 1:', x - 1)\n",
    "print('x * 2:', x * 2)\n",
    "print('x // 2: ', x // 2)\n",
    "print('x ** 2: ', x ** 2)\n",
    "print('x % 2: ', x % 2)\n",
    "print('1 / x: ', 1 / x)"
   ]
  },
  {
   "cell_type": "code",
   "execution_count": 21,
   "metadata": {},
   "outputs": [
    {
     "name": "stdout",
     "output_type": "stream",
     "text": [
      "x + y:  [ 3  6  9 12 15]\n",
      "x - y: [1 2 3 4 5]\n",
      "x * y: [ 2  8 18 32 50]\n",
      "x / y:  [2. 2. 2. 2. 2.]\n",
      "x // y:  [2 2 2 2 2]\n",
      "x ** y:  [     2     16    216   4096 100000]\n"
     ]
    }
   ],
   "source": [
    "x = np.array([2, 4, 6, 8, 10])\n",
    "y = np.array([1, 2, 3, 4, 5])\n",
    "\n",
    "print('x + y: ', x + y)\n",
    "print('x - y:' , x - y)\n",
    "print('x * y:' , x * y)\n",
    "print('x / y: ', x / y)\n",
    "print('x // y: ', x // y)\n",
    "print('x ** y: ', x ** y)"
   ]
  },
  {
   "cell_type": "markdown",
   "metadata": {},
   "source": [
    "3. Indexing and Slicing  \n",
    "There are various ways to select certain elements with an ndarray"
   ]
  },
  {
   "cell_type": "code",
   "execution_count": 28,
   "metadata": {},
   "outputs": [
    {
     "name": "stdout",
     "output_type": "stream",
     "text": [
      "[-5 -4 -3 -2 -1  0  1  2  3  4]\n",
      "\n",
      "[-2 -1]\n",
      "\n",
      "[1000 1000]\n",
      "[  -5   -4   -3 1000 1000    0    1    2    3    4]\n",
      "\n",
      "[1000 1000]\n",
      "\n",
      "[500 500]\n",
      "[  -5   -4   -3 1000 1000    0    1    2    3    4]\n"
     ]
    }
   ],
   "source": [
    "x = np.arange(-5,5)\n",
    "print(x)\n",
    "print()\n",
    "\n",
    "y = x[3:5]     # y is a slice, i.e., pointer to a subarray in x\n",
    "print(y)\n",
    "print()\n",
    "\n",
    "y[:] = 1000    # modifying the value of y will change x\n",
    "print(y)\n",
    "print(x)\n",
    "print()\n",
    "\n",
    "z = x[3:5].copy()   # makes a copy of the subarray\n",
    "print(z)\n",
    "print()\n",
    "\n",
    "z[:] = 500          # modifying the value of z will not affect x\n",
    "print(z)\n",
    "print(x)"
   ]
  },
  {
   "cell_type": "code",
   "execution_count": 29,
   "metadata": {},
   "outputs": [
    {
     "name": "stdout",
     "output_type": "stream",
     "text": [
      "[[1, 2, 3, 4], [5, 6, 7, 8], [9, 10, 11, 12]]\n",
      "[9, 10, 11, 12]\n",
      "[9, 10, 11, 12]\n",
      "\n",
      "[[ 1  2  3  4]\n",
      " [ 5  6  7  8]\n",
      " [ 9 10 11 12]]\n",
      "[ 9 10 11 12]\n",
      "[ 9 10 11 12]\n",
      "[ 9 10 11 12]\n",
      "[ 3  7 11]\n",
      "[[3 4]\n",
      " [7 8]]\n"
     ]
    }
   ],
   "source": [
    "my2dlist = [[1,2,3,4],[5,6,7,8],[9,10,11,12]]   # a 2-dim list\n",
    "print(my2dlist)\n",
    "print(my2dlist[2])        # access the third sublist\n",
    "print(my2dlist[:][2])     # can't access third element of each sublist\n",
    "# print(my2dlist[:,2])    # this will cause syntax error\n",
    "print()\n",
    "\n",
    "my2darr = np.array(my2dlist)\n",
    "print(my2darr)\n",
    "print(my2darr[2][:])      # access the third row\n",
    "print(my2darr[2,:])       # access the third row\n",
    "print(my2darr[:][2])      # access the third row (similar to 2d list)\n",
    "print(my2darr[:,2])       # access the third column\n",
    "print(my2darr[:2,2:])     # access the first two rows & last two columns"
   ]
  },
  {
   "cell_type": "code",
   "execution_count": 30,
   "metadata": {},
   "outputs": [
    {
     "name": "stdout",
     "output_type": "stream",
     "text": [
      "[[ 1  2  3  4]\n",
      " [ 5  6  7  8]\n",
      " [ 9 10 11 12]]\n",
      "\n",
      "[ 3  6  9 12] <class 'numpy.ndarray'>\n",
      "\n",
      "[[ 9 12]]\n"
     ]
    }
   ],
   "source": [
    "# ndarray also supports boolean indexing\n",
    "my2darr = np.arange(1,13,1).reshape(3,4)\n",
    "print(my2darr)\n",
    "print()\n",
    "\n",
    "divBy3 = my2darr[my2darr % 3 == 0]\n",
    "print(divBy3, type(divBy3))\n",
    "print()\n",
    "\n",
    "divBy3LastRow = my2darr[2:, my2darr[2,:] % 3 == 0]\n",
    "print(divBy3LastRow)"
   ]
  },
  {
   "cell_type": "code",
   "execution_count": 24,
   "metadata": {},
   "outputs": [
    {
     "name": "stdout",
     "output_type": "stream",
     "text": [
      "[[ 1  2  3]\n",
      " [ 4  5  6]\n",
      " [ 7  8  9]\n",
      " [10 11 12]]\n",
      "\n",
      "[[ 7  8  9]\n",
      " [ 4  5  6]\n",
      " [ 1  2  3]\n",
      " [10 11 12]]\n",
      "\n",
      "[ 1  3  4  8 12]\n"
     ]
    }
   ],
   "source": [
    "my2darr = np.arange(1, 13, 1).reshape(4, 3)\n",
    "print(my2darr)\n",
    "print()\n",
    "\n",
    "indices = [2, 1, 0, 3]  # selected row indices\n",
    "print(my2darr[indices, :])\n",
    "print()\n",
    "\n",
    "rowIndex = [0, 0, 1, 2, 3]  # row index into my2darr\n",
    "columnIndex = [0, 2, 0, 1, 2]   # column index into my2darr\n",
    "print(my2darr[rowIndex, columnIndex])"
   ]
  },
  {
   "cell_type": "markdown",
   "metadata": {},
   "source": [
    "4. Numpy Arithmetic and Statistical Functions  \n",
    "There are many built-in mathematical functions available for manipulating elements of nd-array"
   ]
  },
  {
   "cell_type": "code",
   "execution_count": 31,
   "metadata": {},
   "outputs": [
    {
     "name": "stdout",
     "output_type": "stream",
     "text": [
      "y:  [-1.4  0.4 -3.2  2.5  3.4]\n",
      "np.abs(y):  [1.4 0.4 3.2 2.5 3.4]\n",
      "np.sqrt(abs(y)):  [1.18321596 0.63245553 1.78885438 1.58113883 1.84390889]\n",
      "np.sign(y):  [-1.  1. -1.  1.  1.]\n",
      "np.exp(y):  [ 0.24659696  1.4918247   0.0407622  12.18249396 29.96410005]\n",
      "np.sort(y):  [-3.2 -1.4  0.4  2.5  3.4]\n"
     ]
    }
   ],
   "source": [
    "y = np.array([-1.4, 0.4, -3.2, 2.5, 3.4])    # generate a random vector\n",
    "\n",
    "print('y: ', y)\n",
    "print('np.abs(y): ', np.abs(y))                 # convert to absolute values\n",
    "print('np.sqrt(abs(y)): ', np.sqrt(abs(y)))     # apply square root to each element\n",
    "print('np.sign(y): ', np.sign(y))               # get the sign of each element\n",
    "print('np.exp(y): ', np.exp(y))                 # apply exponentiation\n",
    "print('np.sort(y): ', np.sort(y))               # sort array"
   ]
  },
  {
   "cell_type": "code",
   "execution_count": 35,
   "metadata": {},
   "outputs": [
    {
     "name": "stdout",
     "output_type": "stream",
     "text": [
      "x:  [-2 -1  0  1  2]\n",
      "y:  [ 1.42579703  1.85467765  0.41756659  0.53079137 -0.80198784]\n",
      "np.add(x,y): [-0.57420297  0.85467765  0.41756659  1.53079137  1.19801216]\n",
      "np.subtract(x,y):  [-3.42579703 -2.85467765 -0.41756659  0.46920863  2.80198784]\n",
      "np.multiply(x,y):  [-2.85159407 -1.85467765  0.          0.53079137 -1.60397568]\n",
      "np.divide(x,y):  [-1.4027242  -0.53917725  0.          1.88397939 -2.4938034 ]\n",
      "np.maximum(x,y):  [1.42579703 1.85467765 0.41756659 1.         2.        ]\n"
     ]
    }
   ],
   "source": [
    "x = np.arange(-2,3)\n",
    "y = np.random.randn(5)\n",
    "\n",
    "print('x: ', x)\n",
    "print('y: ', y)\n",
    "print('np.add(x,y):', np.add(x,y))                  # element-wise addition       x + y\n",
    "print('np.subtract(x,y): ', np.subtract(x,y))       # element-wise subtraction    x - y\n",
    "print('np.multiply(x,y): ', np.multiply(x,y))       # element-wise multiplication x * y\n",
    "print('np.divide(x,y): ', np.divide(x,y))           # element-wise division       x / y\n",
    "print('np.maximum(x,y): ', np.maximum(x,y))         # element-wise maximum        max(x,y)"
   ]
  },
  {
   "cell_type": "code",
   "execution_count": 33,
   "metadata": {},
   "outputs": [
    {
     "name": "stdout",
     "output_type": "stream",
     "text": [
      "y:  [-3.2 -1.4  0.4  2.5  3.4]\n",
      "Min =  -3.2\n",
      "Max =  3.4\n",
      "Average =  0.34000000000000014\n",
      "Std deviation =  2.432776191925595\n",
      "Sum =  1.7000000000000006\n"
     ]
    }
   ],
   "source": [
    "y = np.array([-3.2, -1.4, 0.4, 2.5, 3.4])    # generate a random vector\n",
    "\n",
    "print('y: ', y)\n",
    "print(\"Min = \", np.min(y))             # min \n",
    "print(\"Max = \", np.max(y))             # max \n",
    "print(\"Average = \", np.mean(y))        # mean/average\n",
    "print(\"Std deviation = \", np.std(y))   # standard deviation\n",
    "print(\"Sum = \", np.sum(y))             # sum "
   ]
  },
  {
   "cell_type": "markdown",
   "metadata": {},
   "source": [
    "5. Numpy linear algebra  \n",
    "numpy provides many functions to linear algebra operations"
   ]
  },
  {
   "cell_type": "code",
   "execution_count": 25,
   "metadata": {},
   "outputs": [
    {
     "name": "stdout",
     "output_type": "stream",
     "text": [
      "[[ 0.15897895 -0.45632667 -0.47878324]\n",
      " [ 1.25701341 -0.96765393 -0.46467511]]\n",
      "[[ 0.15897895  1.25701341]\n",
      " [-0.45632667 -0.96765393]\n",
      " [-0.47878324 -0.46467511]]\n",
      "\n",
      "[-0.30242631 -0.92689634  0.00249402]\n",
      "[0.37369401 0.51560204]\n",
      "[[0.46274172 0.86388362]\n",
      " [0.86388362 2.7323598 ]]\n",
      "[[ 1.60535702 -1.2889003  -0.6602193 ]\n",
      " [-1.2889003   1.14458815  0.66812625]\n",
      " [-0.6602193   0.66812625  0.44515635]]\n"
     ]
    }
   ],
   "source": [
    "x = np.random.randn(2, 3)   # create a 2 x 3 random matrix\n",
    "print(x)\n",
    "print(x.T)    # matrix transpose operation x^T\n",
    "print()\n",
    "\n",
    "y = np.random.randn(3)  # random vector\n",
    "print(y)\n",
    "print(x.dot(y))   # matrix-vector multiplication x * y\n",
    "print(x.dot(x.T))   # matrix-vector multiplication x * x^T \n",
    "print(x.T.dot(x))   # matrix-vector multiplication x^T * x\n"
   ]
  },
  {
   "cell_type": "code",
   "execution_count": 27,
   "metadata": {},
   "outputs": [
    {
     "name": "stdout",
     "output_type": "stream",
     "text": [
      "[[-0.50408507  0.92706794 -0.51839068]\n",
      " [ 0.23470674  0.74577024  0.74729468]\n",
      " [-1.11263451  0.3041946  -1.72323774]\n",
      " [ 0.01317934 -0.49443978  0.94386069]\n",
      " [ 0.16882209 -0.24097901 -1.05121274]]\n",
      "\n",
      "[[ 1.55537029  0.38380995 -0.54398118]\n",
      " [ 0.38380995  0.67097487 -0.06849398]\n",
      " [-0.54398118 -0.06849398  0.37038656]]\n",
      "\n",
      "6.4628137858247285\n",
      "\n",
      "[6.87479357 0.52972184 1.77465566]\n",
      "[[ 0.3947768  -0.89341155 -0.21439933]\n",
      " [-0.17065836 -0.30059556  0.93835922]\n",
      " [ 0.90278846  0.33385342  0.27113631]]\n"
     ]
    }
   ],
   "source": [
    "X = np.random.randn(5, 3)\n",
    "print(X)\n",
    "print()\n",
    "\n",
    "C = X.T.dot(X)    # C = X^T * X is a square matrix\n",
    "\n",
    "invC = np.linalg.inv(C)   # inverse of a square matrix\n",
    "print(invC)\n",
    "print()\n",
    "\n",
    "detC = np.linalg.det(C)  # determinant of a square matrix\n",
    "print(detC)\n",
    "print()\n",
    "\n",
    "S, U = np.linalg.eig(C)   # eigenvalue S and eigenvector U of a square matrix\n",
    "print(S)\n",
    "print(U)"
   ]
  }
 ],
 "metadata": {
  "kernelspec": {
   "display_name": "Python 3",
   "language": "python",
   "name": "python3"
  },
  "language_info": {
   "codemirror_mode": {
    "name": "ipython",
    "version": 3
   },
   "file_extension": ".py",
   "mimetype": "text/x-python",
   "name": "python",
   "nbconvert_exporter": "python",
   "pygments_lexer": "ipython3",
   "version": "3.11.5"
  }
 },
 "nbformat": 4,
 "nbformat_minor": 2
}
