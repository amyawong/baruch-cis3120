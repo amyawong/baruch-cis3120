{
 "cells": [
  {
   "cell_type": "markdown",
   "metadata": {},
   "source": [
    "### Numpy\n",
    "- stands for numerical python\n",
    "- is a python library package to support numerical computations\n",
    "- the basic data structure in numpy is a multi-dimensional array object called nd array\n",
    "- provides a suite of functions that can efficiently manipuate elements of the ndarray"
   ]
  },
  {
   "cell_type": "markdown",
   "metadata": {},
   "source": [
    "1. Create an ndarray  \n",
    "An ndarray can be created from a list or tuple object"
   ]
  },
  {
   "cell_type": "code",
   "execution_count": 2,
   "metadata": {},
   "outputs": [],
   "source": [
    "import numpy as np"
   ]
  },
  {
   "cell_type": "code",
   "execution_count": 3,
   "metadata": {},
   "outputs": [
    {
     "name": "stdout",
     "output_type": "stream",
     "text": [
      "[1. 2. 3. 4. 5.]\n",
      "Number of dimensions:  1\n",
      "Dimension:  (5,)\n",
      "Size:  5\n",
      "Array type:  float64\n"
     ]
    }
   ],
   "source": [
    "# a one-dimensional array (vector)\n",
    "oneDim = np.array([1.0, 2, 3, 4, 5])\n",
    "\n",
    "print(oneDim)\n",
    "print('Number of dimensions: ', oneDim.ndim)\n",
    "print('Dimension: ', oneDim.shape)\n",
    "print('Size: ', oneDim.size)\n",
    "print('Array type: ', oneDim.dtype)"
   ]
  },
  {
   "cell_type": "code",
   "execution_count": 4,
   "metadata": {},
   "outputs": [
    {
     "name": "stdout",
     "output_type": "stream",
     "text": [
      "[[1 2]\n",
      " [3 4]\n",
      " [5 6]\n",
      " [7 8]]\n",
      "Number of dimensions:  2\n",
      "Dimension:  (4, 2)\n",
      "Size:  8\n",
      "Array type:  int64\n"
     ]
    }
   ],
   "source": [
    "# a two-dimensional array (matrix)\n",
    "twoDim = np.array([[1, 2], [3, 4], [5, 6], [7, 8]])\n",
    "\n",
    "print(twoDim)\n",
    "print('Number of dimensions: ', twoDim.ndim)\n",
    "print('Dimension: ', twoDim.shape)\n",
    "print('Size: ', twoDim.size)\n",
    "print('Array type: ', twoDim.dtype)"
   ]
  },
  {
   "cell_type": "code",
   "execution_count": 5,
   "metadata": {},
   "outputs": [
    {
     "name": "stdout",
     "output_type": "stream",
     "text": [
      "[['1' 'a' '3.0']\n",
      " ['2' 'b' '3.5']]\n",
      "Number of dimensions:  2\n",
      "Dimension:  (2, 3)\n",
      "Size:  6\n"
     ]
    }
   ],
   "source": [
    "# create ndarray from tuple\n",
    "arrFromTuple = np.array([(1, 'a', 3.0), (2, 'b', 3.5)])\n",
    "\n",
    "print(arrFromTuple)\n",
    "print('Number of dimensions: ', arrFromTuple.ndim)\n",
    "print('Dimension: ', arrFromTuple.shape)\n",
    "print('Size: ', arrFromTuple.size)"
   ]
  },
  {
   "cell_type": "code",
   "execution_count": 6,
   "metadata": {},
   "outputs": [
    {
     "name": "stdout",
     "output_type": "stream",
     "text": [
      "[2, 3, 4, 5, 6]\n",
      "[2 3 4 5 6]\n"
     ]
    }
   ],
   "source": [
    "# add 1 to every item in the list\n",
    "# traditional method:\n",
    "nums = [1, 2, 3, 4, 5]\n",
    "for x in range(len(nums)):\n",
    "  nums[x] += 1\n",
    "print(nums)\n",
    "\n",
    "# using numpy (easier syntax)\n",
    "x = np.array([1, 2, 3, 4, 5])\n",
    "print(x + 1)"
   ]
  },
  {
   "cell_type": "markdown",
   "metadata": {},
   "source": [
    "There are several built-in functions in numpy that can be used to create ndarrays"
   ]
  },
  {
   "cell_type": "code",
   "execution_count": 7,
   "metadata": {},
   "outputs": [
    {
     "name": "stdout",
     "output_type": "stream",
     "text": [
      "[0.61582604 0.18426995 0.47070813 0.35922439 0.52908695]\n"
     ]
    }
   ],
   "source": [
    "# random numbers from a uniform distribution between [0, 1]\n",
    "print(np.random.rand(5))"
   ]
  },
  {
   "cell_type": "code",
   "execution_count": 8,
   "metadata": {},
   "outputs": [
    {
     "name": "stdout",
     "output_type": "stream",
     "text": [
      "[-0.5695875  -0.61842287  2.69991667  1.94303258 -2.12722356]\n"
     ]
    }
   ],
   "source": [
    "# random numbers from a normal distribution\n",
    "print(np.random.randn(5))"
   ]
  },
  {
   "cell_type": "code",
   "execution_count": 9,
   "metadata": {},
   "outputs": [
    {
     "name": "stdout",
     "output_type": "stream",
     "text": [
      "[-10  -8  -6  -4  -2   0   2   4   6   8]\n"
     ]
    }
   ],
   "source": [
    "# similar to range but returns ndarray instead of list\n",
    "print(np.arange(-10, 10, 2))"
   ]
  },
  {
   "cell_type": "code",
   "execution_count": 10,
   "metadata": {},
   "outputs": [
    {
     "name": "stdout",
     "output_type": "stream",
     "text": [
      "[[ 0  1  2  3]\n",
      " [ 4  5  6  7]\n",
      " [ 8  9 10 11]]\n"
     ]
    }
   ],
   "source": [
    "# reshape to a matrix\n",
    "print(np.arange(12).reshape(3, 4))"
   ]
  },
  {
   "cell_type": "code",
   "execution_count": 11,
   "metadata": {},
   "outputs": [
    {
     "name": "stdout",
     "output_type": "stream",
     "text": [
      "[0.         0.11111111 0.22222222 0.33333333 0.44444444 0.55555556\n",
      " 0.66666667 0.77777778 0.88888889 1.        ]\n"
     ]
    }
   ],
   "source": [
    "# split interval [0, 1] into 10 equally separated values\n",
    "print(np.linspace(0, 1, 10))"
   ]
  },
  {
   "cell_type": "code",
   "execution_count": 12,
   "metadata": {},
   "outputs": [
    {
     "name": "stdout",
     "output_type": "stream",
     "text": [
      "[1.e-03 1.e-02 1.e-01 1.e+00 1.e+01 1.e+02 1.e+03]\n"
     ]
    }
   ],
   "source": [
    "# create ndarray with values from 19^-3 to 10^3\n",
    "print(np.logspace(-3, 3, 7))"
   ]
  },
  {
   "cell_type": "code",
   "execution_count": 13,
   "metadata": {},
   "outputs": [
    {
     "name": "stdout",
     "output_type": "stream",
     "text": [
      "[[0. 0. 0.]\n",
      " [0. 0. 0.]]\n"
     ]
    }
   ],
   "source": [
    "# a matrix of zeros\n",
    "print(np.zeros((2, 3)))"
   ]
  },
  {
   "cell_type": "code",
   "execution_count": 14,
   "metadata": {},
   "outputs": [
    {
     "name": "stdout",
     "output_type": "stream",
     "text": [
      "[[1. 1.]\n",
      " [1. 1.]\n",
      " [1. 1.]]\n"
     ]
    }
   ],
   "source": [
    "# a matrix of ones\n",
    "print(np.ones((3, 2)))"
   ]
  },
  {
   "cell_type": "code",
   "execution_count": 15,
   "metadata": {},
   "outputs": [
    {
     "name": "stdout",
     "output_type": "stream",
     "text": [
      "[[1. 0. 0.]\n",
      " [0. 1. 0.]\n",
      " [0. 0. 1.]]\n"
     ]
    }
   ],
   "source": [
    "# a 3 x 3 identity matrix\n",
    "print(np.eye(3))"
   ]
  },
  {
   "cell_type": "markdown",
   "metadata": {},
   "source": [
    "2. Element-wise Operations\n",
    "Standard operators (such as addition and multiplication) can be applied to each element of the ndarray"
   ]
  },
  {
   "cell_type": "code",
   "execution_count": 16,
   "metadata": {},
   "outputs": [
    {
     "name": "stdout",
     "output_type": "stream",
     "text": [
      "x + 1: [2 3 4 5 6]\n",
      "x - 1: [0 1 2 3 4]\n",
      "x * 2: [ 2  4  6  8 10]\n",
      "x // 2:  [0 1 1 2 2]\n",
      "x ** 2:  [ 1  4  9 16 25]\n",
      "x % 2:  [1 0 1 0 1]\n",
      "1 / x:  [1.         0.5        0.33333333 0.25       0.2       ]\n"
     ]
    }
   ],
   "source": [
    "x = np.array([1, 2, 3, 4, 5])\n",
    "\n",
    "print('x + 1:', x + 1)\n",
    "print('x - 1:', x - 1)\n",
    "print('x * 2:', x * 2)\n",
    "print('x // 2: ', x // 2)\n",
    "print('x ** 2: ', x ** 2)\n",
    "print('x % 2: ', x % 2)\n",
    "print('1 / x: ', 1 / x)"
   ]
  },
  {
   "cell_type": "code",
   "execution_count": 17,
   "metadata": {},
   "outputs": [
    {
     "name": "stdout",
     "output_type": "stream",
     "text": [
      "x + y:  [ 3  6  9 12 15]\n",
      "x - y: [1 2 3 4 5]\n",
      "x * y: [ 2  8 18 32 50]\n",
      "x / y:  [2. 2. 2. 2. 2.]\n",
      "x // y:  [2 2 2 2 2]\n",
      "x ** y:  [     2     16    216   4096 100000]\n"
     ]
    }
   ],
   "source": [
    "x = np.array([2, 4, 6, 8, 10])\n",
    "y = np.array([1, 2, 3, 4, 5])\n",
    "\n",
    "print('x + y: ', x + y)\n",
    "print('x - y:' , x - y)\n",
    "print('x * y:' , x * y)\n",
    "print('x / y: ', x / y)\n",
    "print('x // y: ', x // y)\n",
    "print('x ** y: ', x ** y)"
   ]
  },
  {
   "cell_type": "markdown",
   "metadata": {},
   "source": [
    "3. Indexing and Slicing  \n",
    "There are various ways to select certain elements with an ndarray"
   ]
  },
  {
   "cell_type": "code",
   "execution_count": 18,
   "metadata": {},
   "outputs": [
    {
     "name": "stdout",
     "output_type": "stream",
     "text": [
      "[-5 -4 -3 -2 -1  0  1  2  3  4]\n",
      "\n",
      "[-2 -1]\n",
      "\n",
      "[1000 1000]\n",
      "[  -5   -4   -3 1000 1000    0    1    2    3    4]\n",
      "\n",
      "[1000 1000]\n",
      "\n",
      "[500 500]\n",
      "[  -5   -4   -3 1000 1000    0    1    2    3    4]\n"
     ]
    }
   ],
   "source": [
    "x = np.arange(-5,5)\n",
    "print(x)\n",
    "print()\n",
    "\n",
    "y = x[3:5]     # y is a slice, i.e., pointer to a subarray in x\n",
    "print(y)\n",
    "print()\n",
    "\n",
    "y[:] = 1000    # modifying the value of y will change x\n",
    "print(y)\n",
    "print(x)\n",
    "print()\n",
    "\n",
    "z = x[3:5].copy()   # makes a copy of the subarray\n",
    "print(z)\n",
    "print()\n",
    "\n",
    "z[:] = 500          # modifying the value of z will not affect x\n",
    "print(z)\n",
    "print(x)"
   ]
  },
  {
   "cell_type": "code",
   "execution_count": 19,
   "metadata": {},
   "outputs": [
    {
     "name": "stdout",
     "output_type": "stream",
     "text": [
      "[[1, 2, 3, 4], [5, 6, 7, 8], [9, 10, 11, 12]]\n",
      "[9, 10, 11, 12]\n",
      "[9, 10, 11, 12]\n",
      "\n",
      "[[ 1  2  3  4]\n",
      " [ 5  6  7  8]\n",
      " [ 9 10 11 12]]\n",
      "[ 9 10 11 12]\n",
      "[ 9 10 11 12]\n",
      "[ 9 10 11 12]\n",
      "[ 3  7 11]\n",
      "[[3 4]\n",
      " [7 8]]\n"
     ]
    }
   ],
   "source": [
    "my2dlist = [[1,2,3,4],[5,6,7,8],[9,10,11,12]]   # a 2-dim list\n",
    "print(my2dlist)\n",
    "print(my2dlist[2])        # access the third sublist\n",
    "print(my2dlist[:][2])     # can't access third element of each sublist\n",
    "# print(my2dlist[:,2])    # this will cause syntax error\n",
    "print()\n",
    "\n",
    "my2darr = np.array(my2dlist)\n",
    "print(my2darr)\n",
    "print(my2darr[2][:])      # access the third row\n",
    "print(my2darr[2,:])       # access the third row\n",
    "print(my2darr[:][2])      # access the third row (similar to 2d list)\n",
    "print(my2darr[:,2])       # access the third column\n",
    "print(my2darr[:2,2:])     # access the first two rows & last two columns"
   ]
  },
  {
   "cell_type": "code",
   "execution_count": 20,
   "metadata": {},
   "outputs": [
    {
     "name": "stdout",
     "output_type": "stream",
     "text": [
      "[[ 1  2  3  4]\n",
      " [ 5  6  7  8]\n",
      " [ 9 10 11 12]]\n",
      "\n",
      "[ 3  6  9 12] <class 'numpy.ndarray'>\n",
      "\n",
      "[[ 9 12]]\n"
     ]
    }
   ],
   "source": [
    "# ndarray also supports boolean indexing\n",
    "my2darr = np.arange(1,13,1).reshape(3,4)\n",
    "print(my2darr)\n",
    "print()\n",
    "\n",
    "divBy3 = my2darr[my2darr % 3 == 0]\n",
    "print(divBy3, type(divBy3))\n",
    "print()\n",
    "\n",
    "divBy3LastRow = my2darr[2:, my2darr[2,:] % 3 == 0]\n",
    "print(divBy3LastRow)"
   ]
  },
  {
   "cell_type": "code",
   "execution_count": 21,
   "metadata": {},
   "outputs": [
    {
     "name": "stdout",
     "output_type": "stream",
     "text": [
      "[[ 1  2  3]\n",
      " [ 4  5  6]\n",
      " [ 7  8  9]\n",
      " [10 11 12]]\n",
      "\n",
      "[[ 7  8  9]\n",
      " [ 4  5  6]\n",
      " [ 1  2  3]\n",
      " [10 11 12]]\n",
      "\n",
      "[ 1  3  4  8 12]\n"
     ]
    }
   ],
   "source": [
    "my2darr = np.arange(1, 13, 1).reshape(4, 3)\n",
    "print(my2darr)\n",
    "print()\n",
    "\n",
    "indices = [2, 1, 0, 3]  # selected row indices\n",
    "print(my2darr[indices, :])\n",
    "print()\n",
    "\n",
    "rowIndex = [0, 0, 1, 2, 3]  # row index into my2darr\n",
    "columnIndex = [0, 2, 0, 1, 2]   # column index into my2darr\n",
    "print(my2darr[rowIndex, columnIndex])"
   ]
  },
  {
   "cell_type": "markdown",
   "metadata": {},
   "source": [
    "4. Numpy Arithmetic and Statistical Functions  \n",
    "There are many built-in mathematical functions available for manipulating elements of nd-array"
   ]
  },
  {
   "cell_type": "code",
   "execution_count": 22,
   "metadata": {},
   "outputs": [
    {
     "name": "stdout",
     "output_type": "stream",
     "text": [
      "y:  [-1.4  0.4 -3.2  2.5  3.4]\n",
      "np.abs(y):  [1.4 0.4 3.2 2.5 3.4]\n",
      "np.sqrt(abs(y)):  [1.18321596 0.63245553 1.78885438 1.58113883 1.84390889]\n",
      "np.sign(y):  [-1.  1. -1.  1.  1.]\n",
      "np.exp(y):  [ 0.24659696  1.4918247   0.0407622  12.18249396 29.96410005]\n",
      "np.sort(y):  [-3.2 -1.4  0.4  2.5  3.4]\n"
     ]
    }
   ],
   "source": [
    "y = np.array([-1.4, 0.4, -3.2, 2.5, 3.4])    # generate a random vector\n",
    "\n",
    "print('y: ', y)\n",
    "print('np.abs(y): ', np.abs(y))                 # convert to absolute values\n",
    "print('np.sqrt(abs(y)): ', np.sqrt(abs(y)))     # apply square root to each element\n",
    "print('np.sign(y): ', np.sign(y))               # get the sign of each element\n",
    "print('np.exp(y): ', np.exp(y))                 # apply exponentiation\n",
    "print('np.sort(y): ', np.sort(y))               # sort array"
   ]
  },
  {
   "cell_type": "code",
   "execution_count": 23,
   "metadata": {},
   "outputs": [
    {
     "name": "stdout",
     "output_type": "stream",
     "text": [
      "x:  [-2 -1  0  1  2]\n",
      "y:  [1.17005905 1.17053837 1.24176474 0.097143   0.27426361]\n",
      "np.add(x,y): [-0.82994095  0.17053837  1.24176474  1.097143    2.27426361]\n",
      "np.subtract(x,y):  [-3.17005905 -2.17053837 -1.24176474  0.902857    1.72573639]\n",
      "np.multiply(x,y):  [-2.3401181  -1.17053837  0.          0.097143    0.54852722]\n",
      "np.divide(x,y):  [-1.70931544 -0.85430775  0.         10.29410229  7.2922544 ]\n",
      "np.maximum(x,y):  [1.17005905 1.17053837 1.24176474 1.         2.        ]\n"
     ]
    }
   ],
   "source": [
    "x = np.arange(-2,3)\n",
    "y = np.random.randn(5)\n",
    "\n",
    "print('x: ', x)\n",
    "print('y: ', y)\n",
    "print('np.add(x,y):', np.add(x,y))                  # element-wise addition       x + y\n",
    "print('np.subtract(x,y): ', np.subtract(x,y))       # element-wise subtraction    x - y\n",
    "print('np.multiply(x,y): ', np.multiply(x,y))       # element-wise multiplication x * y\n",
    "print('np.divide(x,y): ', np.divide(x,y))           # element-wise division       x / y\n",
    "print('np.maximum(x,y): ', np.maximum(x,y))         # element-wise maximum        max(x,y)"
   ]
  },
  {
   "cell_type": "code",
   "execution_count": 24,
   "metadata": {},
   "outputs": [
    {
     "name": "stdout",
     "output_type": "stream",
     "text": [
      "y:  [-3.2 -1.4  0.4  2.5  3.4]\n",
      "Min =  -3.2\n",
      "Max =  3.4\n",
      "Average =  0.34000000000000014\n",
      "Std deviation =  2.432776191925595\n",
      "Sum =  1.7000000000000006\n"
     ]
    }
   ],
   "source": [
    "y = np.array([-3.2, -1.4, 0.4, 2.5, 3.4])    # generate a random vector\n",
    "\n",
    "print('y: ', y)\n",
    "print(\"Min = \", np.min(y))             # min \n",
    "print(\"Max = \", np.max(y))             # max \n",
    "print(\"Average = \", np.mean(y))        # mean/average\n",
    "print(\"Std deviation = \", np.std(y))   # standard deviation\n",
    "print(\"Sum = \", np.sum(y))             # sum "
   ]
  },
  {
   "cell_type": "markdown",
   "metadata": {},
   "source": [
    "5. Numpy linear algebra  \n",
    "numpy provides many functions to linear algebra operations"
   ]
  },
  {
   "cell_type": "code",
   "execution_count": 25,
   "metadata": {},
   "outputs": [
    {
     "name": "stdout",
     "output_type": "stream",
     "text": [
      "[[-1.04136751 -1.78793478  1.45984447]\n",
      " [ 0.85571091 -0.5610175  -1.38290455]]\n",
      "[[-1.04136751  0.85571091]\n",
      " [-1.78793478 -0.5610175 ]\n",
      " [ 1.45984447 -1.38290455]]\n",
      "\n",
      "[-0.63105977  1.41436681 -1.79448242]\n",
      "[-4.49129572  1.14810865]\n",
      "[[ 6.41230293 -1.9068724 ]\n",
      " [-1.9068724   2.95940679]]\n",
      "[[ 1.81668744  1.38182839 -2.7036011 ]\n",
      " [ 1.38182839  3.5114514  -1.83427304]\n",
      " [-2.7036011  -1.83427304  4.04357088]]\n"
     ]
    }
   ],
   "source": [
    "x = np.random.randn(2, 3)   # create a 2 x 3 random matrix\n",
    "print(x)\n",
    "print(x.T)    # matrix transpose operation x^T\n",
    "print()\n",
    "\n",
    "y = np.random.randn(3)  # random vector\n",
    "print(y)\n",
    "print(x.dot(y))   # matrix-vector multiplication x * y\n",
    "print(x.dot(x.T))   # matrix-vector multiplication x * x^T \n",
    "print(x.T.dot(x))   # matrix-vector multiplication x^T * x\n"
   ]
  },
  {
   "cell_type": "code",
   "execution_count": 26,
   "metadata": {},
   "outputs": [
    {
     "name": "stdout",
     "output_type": "stream",
     "text": [
      "[[-0.34111081  0.47014131  1.27691673]\n",
      " [-0.61603161  0.71028791  0.44931613]\n",
      " [-1.21743282  0.24438383 -0.33592068]\n",
      " [-0.91156003 -0.60284323  2.17729227]\n",
      " [-1.17993387 -0.73473113 -0.16599002]]\n",
      "\n",
      "[[ 0.29002413 -0.07136725  0.08663305]\n",
      " [-0.07136725  0.61638909  0.01018929]\n",
      " [ 0.08663305  0.01018929  0.17649176]]\n",
      "\n",
      "38.65507754355633\n",
      "\n",
      "[7.94861499 3.07082542 1.58365276]\n",
      "[[ 0.49501733  0.84339282 -0.20891718]\n",
      " [ 0.0899622   0.18940173  0.9777698 ]\n",
      " [-0.86421331  0.50280765 -0.01788366]]\n"
     ]
    }
   ],
   "source": [
    "X = np.random.randn(5, 3)\n",
    "print(X)\n",
    "print()\n",
    "\n",
    "C = X.T.dot(X)    # C = X^T * X is a square matrix\n",
    "\n",
    "invC = np.linalg.inv(C)   # inverse of a square matrix\n",
    "print(invC)\n",
    "print()\n",
    "\n",
    "detC = np.linalg.det(C)  # determinant of a square matrix\n",
    "print(detC)\n",
    "print()\n",
    "\n",
    "S, U = np.linalg.eig(C)   # eigenvalue S and eigenvector U of a square matrix\n",
    "print(S)\n",
    "print(U)"
   ]
  }
 ],
 "metadata": {
  "kernelspec": {
   "display_name": "Python 3",
   "language": "python",
   "name": "python3"
  },
  "language_info": {
   "codemirror_mode": {
    "name": "ipython",
    "version": 3
   },
   "file_extension": ".py",
   "mimetype": "text/x-python",
   "name": "python",
   "nbconvert_exporter": "python",
   "pygments_lexer": "ipython3",
   "version": "3.11.5"
  }
 },
 "nbformat": 4,
 "nbformat_minor": 2
}
