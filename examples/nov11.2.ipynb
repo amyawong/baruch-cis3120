{
 "cells": [
  {
   "cell_type": "markdown",
   "metadata": {},
   "source": [
    "## List Concatenation"
   ]
  },
  {
   "cell_type": "code",
   "execution_count": 11,
   "metadata": {},
   "outputs": [],
   "source": [
    "import time\n",
    "import numpy as np\n",
    "\n",
    "size = 10"
   ]
  },
  {
   "cell_type": "code",
   "execution_count": 12,
   "metadata": {},
   "outputs": [
    {
     "name": "stdout",
     "output_type": "stream",
     "text": [
      "1699754514.9240372\n",
      "1699754514.9252\n",
      "Time taken to concatenate two lists: 0.0011627674102783203\n"
     ]
    }
   ],
   "source": [
    "list1 = [i for i in range(size)]\n",
    "list2 = [i for i in range(size)]\n",
    "\n",
    "initial_time = time.time()  # timestamp before concatenation\n",
    "print(initial_time) # prints time in seconds that has passed since January 1, 1970\n",
    "\n",
    "list3 = list1 + list2\n",
    "# array3 = np.concatenate((array1, array2), axis = 0)   # numpy is faster at concatenating two lists\n",
    "\n",
    "current_time = time.time() # time after concatenation\n",
    "print(current_time)\n",
    "\n",
    "time_taken = current_time - initial_time\n",
    "print(f'Time taken to concatenate two lists: {time_taken}')"
   ]
  },
  {
   "cell_type": "markdown",
   "metadata": {},
   "source": [
    "## Array Concatenation  "
   ]
  },
  {
   "cell_type": "code",
   "execution_count": 13,
   "metadata": {},
   "outputs": [
    {
     "name": "stdout",
     "output_type": "stream",
     "text": [
      "1699754514.966795\n",
      "1699754514.967094\n",
      "Time taken to concatenate two lists: 0.0002989768981933594\n"
     ]
    }
   ],
   "source": [
    "array1 = np.array(list1)\n",
    "array2 = np.array(list2)\n",
    "\n",
    "initial_time = time.time()  # timestamp before concatenation\n",
    "print(initial_time) # prints time in seconds that has passed since January 1, 1970\n",
    "\n",
    "array3 = np.concatenate((array1, array2), axis = 0)   # numpy is faster at concatenating two lists\n",
    "\n",
    "current_time = time.time() # time after concatenation\n",
    "print(current_time)\n",
    "\n",
    "time_taken = current_time - initial_time\n",
    "print(f'Time taken to concatenate two lists: {time_taken}')"
   ]
  }
 ],
 "metadata": {
  "kernelspec": {
   "display_name": "Python 3",
   "language": "python",
   "name": "python3"
  },
  "language_info": {
   "codemirror_mode": {
    "name": "ipython",
    "version": 3
   },
   "file_extension": ".py",
   "mimetype": "text/x-python",
   "name": "python",
   "nbconvert_exporter": "python",
   "pygments_lexer": "ipython3",
   "version": "3.11.5"
  }
 },
 "nbformat": 4,
 "nbformat_minor": 2
}
