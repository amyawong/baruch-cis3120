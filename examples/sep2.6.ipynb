{
 "cells": [
  {
   "cell_type": "markdown",
   "metadata": {},
   "source": [
    "**BeautifulSoup Example 3**"
   ]
  },
  {
   "cell_type": "markdown",
   "metadata": {},
   "source": [
    "1. Import libraries"
   ]
  },
  {
   "cell_type": "code",
   "execution_count": 1,
   "metadata": {},
   "outputs": [],
   "source": [
    "import requests\n",
    "from bs4 import BeautifulSoup"
   ]
  },
  {
   "cell_type": "markdown",
   "metadata": {},
   "source": [
    "2. Set the URL"
   ]
  },
  {
   "cell_type": "code",
   "execution_count": 2,
   "metadata": {},
   "outputs": [],
   "source": [
    "url = 'https://avinashjairam.github.io/syllabus.html'"
   ]
  },
  {
   "cell_type": "markdown",
   "metadata": {},
   "source": [
    "3. Store contents of page in a variable and check status code"
   ]
  },
  {
   "cell_type": "code",
   "execution_count": 3,
   "metadata": {},
   "outputs": [
    {
     "data": {
      "text/plain": [
       "200"
      ]
     },
     "execution_count": 3,
     "metadata": {},
     "output_type": "execute_result"
    }
   ],
   "source": [
    "page = requests.get(url)\n",
    "page.status_code"
   ]
  },
  {
   "cell_type": "markdown",
   "metadata": {},
   "source": [
    "4. Raw HTML"
   ]
  },
  {
   "cell_type": "code",
   "execution_count": 4,
   "metadata": {},
   "outputs": [
    {
     "data": {
      "text/plain": [
       "b'<!DOCTYPE html>\\n\\n<html>\\n     <head>\\n\\t<title>CIS 3120 SYLLABUS></title>\\n     </head>\\n\\n\\n\\n      <body>\\n\\t<h4>Instructor:</h4> \\n\\t<p id=\"instructor\"> Mr. Avinash Jairam </p>\\n\\n\\t<h4>Class Time: </h4> \\n\\t<p id =\"time\"> Saturday: 11:10AM - 2:05PM - ONLINE via BlackBoard Collaborate </p>\\n\\n\\t<h4>Office hours:</h4> \\n\\t<p id = \"office_hours\"> Saturday: 1:00PM - 3:00PM </p>\\n\\n\\t<h4>Email:</h4>\\n        <p id=\"email\"> avinash.jairam@baruch.cuny.edu </p>\\n\\n\\t<h4>Course Website :</h4> \\n\\t<p id=\"website\"> Blackboard</p>\\n\\n\\t<h4>Course Description:</h4>\\n\\t<p id=\"description\">\\n\\t This course introduces the aspects of programming that can\\n\\tsupport business analytics. The course covers hands-on issues in programming for\\n\\tanalytics which include accessing data, \\n\\tcreating informative data graphics, writing functions, \\n\\tdebugging, and organizing and commenting code.</p>\\n\\n      </body>\\n\\n\\n</html>\\n'"
      ]
     },
     "execution_count": 4,
     "metadata": {},
     "output_type": "execute_result"
    }
   ],
   "source": [
    "page.content"
   ]
  },
  {
   "cell_type": "markdown",
   "metadata": {},
   "source": [
    "5. Import raw HTML into BeautifulSoup"
   ]
  },
  {
   "cell_type": "code",
   "execution_count": 5,
   "metadata": {},
   "outputs": [],
   "source": [
    "soup = BeautifulSoup(page.content, 'html.parser')"
   ]
  },
  {
   "cell_type": "markdown",
   "metadata": {},
   "source": [
    "6. Get formatted HTML"
   ]
  },
  {
   "cell_type": "code",
   "execution_count": 6,
   "metadata": {},
   "outputs": [
    {
     "name": "stdout",
     "output_type": "stream",
     "text": [
      "<!DOCTYPE html>\n",
      "<html>\n",
      " <head>\n",
      "  <title>\n",
      "   CIS 3120 SYLLABUS&gt;\n",
      "  </title>\n",
      " </head>\n",
      " <body>\n",
      "  <h4>\n",
      "   Instructor:\n",
      "  </h4>\n",
      "  <p id=\"instructor\">\n",
      "   Mr. Avinash Jairam\n",
      "  </p>\n",
      "  <h4>\n",
      "   Class Time:\n",
      "  </h4>\n",
      "  <p id=\"time\">\n",
      "   Saturday: 11:10AM - 2:05PM - ONLINE via BlackBoard Collaborate\n",
      "  </p>\n",
      "  <h4>\n",
      "   Office hours:\n",
      "  </h4>\n",
      "  <p id=\"office_hours\">\n",
      "   Saturday: 1:00PM - 3:00PM\n",
      "  </p>\n",
      "  <h4>\n",
      "   Email:\n",
      "  </h4>\n",
      "  <p id=\"email\">\n",
      "   avinash.jairam@baruch.cuny.edu\n",
      "  </p>\n",
      "  <h4>\n",
      "   Course Website :\n",
      "  </h4>\n",
      "  <p id=\"website\">\n",
      "   Blackboard\n",
      "  </p>\n",
      "  <h4>\n",
      "   Course Description:\n",
      "  </h4>\n",
      "  <p id=\"description\">\n",
      "   This course introduces the aspects of programming that can\n",
      "\tsupport business analytics. The course covers hands-on issues in programming for\n",
      "\tanalytics which include accessing data, \n",
      "\tcreating informative data graphics, writing functions, \n",
      "\tdebugging, and organizing and commenting code.\n",
      "  </p>\n",
      " </body>\n",
      "</html>\n",
      "\n"
     ]
    }
   ],
   "source": [
    "# soup.prettify() # prints raw HTML as one line\n",
    "print(soup.prettify())  # prints HTML in formatted lines"
   ]
  },
  {
   "cell_type": "markdown",
   "metadata": {},
   "source": [
    "7. Scrape for paragraph tags"
   ]
  },
  {
   "cell_type": "code",
   "execution_count": 7,
   "metadata": {},
   "outputs": [],
   "source": [
    "p = soup.find('p')  # only finds first instance of the specified tag on the page\n",
    "all_p_tags = soup.find_all('p') # returns ALL instances of that tag on the page as a python list"
   ]
  },
  {
   "cell_type": "markdown",
   "metadata": {},
   "source": [
    "7a. print all the conent in paragraph tags"
   ]
  },
  {
   "cell_type": "code",
   "execution_count": 8,
   "metadata": {},
   "outputs": [
    {
     "name": "stdout",
     "output_type": "stream",
     "text": [
      " Mr. Avinash Jairam \n",
      " Saturday: 11:10AM - 2:05PM - ONLINE via BlackBoard Collaborate \n",
      " Saturday: 1:00PM - 3:00PM \n",
      " avinash.jairam@baruch.cuny.edu \n",
      " Blackboard\n",
      "\n",
      "\t This course introduces the aspects of programming that can\n",
      "\tsupport business analytics. The course covers hands-on issues in programming for\n",
      "\tanalytics which include accessing data, \n",
      "\tcreating informative data graphics, writing functions, \n",
      "\tdebugging, and organizing and commenting code.\n"
     ]
    }
   ],
   "source": [
    "for p_tag in all_p_tags:\n",
    "  print(p_tag.get_text())"
   ]
  },
  {
   "cell_type": "markdown",
   "metadata": {},
   "source": [
    "8. Scrape for email"
   ]
  },
  {
   "cell_type": "code",
   "execution_count": 10,
   "metadata": {},
   "outputs": [
    {
     "name": "stdout",
     "output_type": "stream",
     "text": [
      " avinash.jairam@baruch.cuny.edu \n"
     ]
    }
   ],
   "source": [
    "email = soup.find('p', id='email')\n",
    "print(email.get_text())"
   ]
  },
  {
   "cell_type": "markdown",
   "metadata": {},
   "source": [
    "9. Scrape for office hours"
   ]
  },
  {
   "cell_type": "code",
   "execution_count": 12,
   "metadata": {},
   "outputs": [
    {
     "name": "stdout",
     "output_type": "stream",
     "text": [
      " Saturday: 1:00PM - 3:00PM \n",
      " Saturday: 1:00PM - 3:00PM \n"
     ]
    }
   ],
   "source": [
    "# Method 1\n",
    "office_hours= soup.find_all('p', id=\"office_hours\")\n",
    "office_hours = office_hours[0].get_text()\n",
    "print(office_hours)\n",
    "\n",
    "# Method 2\n",
    "# Since an id will only occur once per page, can also utilize the .find() method\n",
    "office_hours = soup.find('p', id ='office_hours')\n",
    "office_hours = office_hours.get_text()\n",
    "print(office_hours)"
   ]
  },
  {
   "cell_type": "markdown",
   "metadata": {},
   "source": [
    "10. Scrape for website"
   ]
  },
  {
   "cell_type": "code",
   "execution_count": 14,
   "metadata": {},
   "outputs": [
    {
     "name": "stdout",
     "output_type": "stream",
     "text": [
      " Blackboard\n",
      " Blackboard\n"
     ]
    }
   ],
   "source": [
    "# Method 1\n",
    "website = soup.find_all('p', id = \"website\")\n",
    "website = website[0].get_text()\n",
    "print(website)\n",
    "\n",
    "# Method 2\n",
    "# Since an id will only occur once per page, can also utilize the .find() method\n",
    "website = soup.find('p', id = 'website')\n",
    "website = website.get_text()\n",
    "print(website)"
   ]
  },
  {
   "cell_type": "markdown",
   "metadata": {},
   "source": [
    "11. Scrape for course description"
   ]
  },
  {
   "cell_type": "code",
   "execution_count": 15,
   "metadata": {},
   "outputs": [
    {
     "name": "stdout",
     "output_type": "stream",
     "text": [
      "\n",
      "\t This course introduces the aspects of programming that can\n",
      "\tsupport business analytics. The course covers hands-on issues in programming for\n",
      "\tanalytics which include accessing data, \n",
      "\tcreating informative data graphics, writing functions, \n",
      "\tdebugging, and organizing and commenting code.\n"
     ]
    }
   ],
   "source": [
    "# Method 1\n",
    "course_description=soup.find_all('p', id=\"description\")\n",
    "course_description=course_description[0].get_text()\n",
    "print(course_description)\n",
    "\n",
    "# Method 2\n",
    "# Since an id will only occur once per page, can also utilize the .find() method\n",
    "course_description = soup.find('p', id = 'description')\n",
    "course_description = course_description.get_text()\n",
    "print(course_description)\n"
   ]
  }
 ],
 "metadata": {
  "kernelspec": {
   "display_name": "Python 3",
   "language": "python",
   "name": "python3"
  },
  "language_info": {
   "codemirror_mode": {
    "name": "ipython",
    "version": 3
   },
   "file_extension": ".py",
   "mimetype": "text/x-python",
   "name": "python",
   "nbconvert_exporter": "python",
   "pygments_lexer": "ipython3",
   "version": "3.11.5"
  },
  "orig_nbformat": 4
 },
 "nbformat": 4,
 "nbformat_minor": 2
}
