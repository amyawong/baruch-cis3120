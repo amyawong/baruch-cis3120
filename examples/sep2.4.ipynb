{
 "cells": [
  {
   "cell_type": "markdown",
   "metadata": {},
   "source": [
    "**BeautifulSoup Example 1**"
   ]
  },
  {
   "cell_type": "markdown",
   "metadata": {},
   "source": [
    "1. Import libraries"
   ]
  },
  {
   "cell_type": "code",
   "execution_count": 3,
   "metadata": {},
   "outputs": [],
   "source": [
    "import requests\n",
    "from bs4 import BeautifulSoup"
   ]
  },
  {
   "cell_type": "markdown",
   "metadata": {},
   "source": [
    "2. Set URL to scrape"
   ]
  },
  {
   "cell_type": "code",
   "execution_count": 4,
   "metadata": {},
   "outputs": [],
   "source": [
    "url = 'https://avinashjairam.github.io/example1.html'"
   ]
  },
  {
   "cell_type": "markdown",
   "metadata": {},
   "source": [
    "3. Create variable to store contents of page  \n",
    ".get() makes a get request to the server and attempts to retrieve the HTML  \n",
    "If GET request is successful, <Response[200]> should be the output which the response object returns a status code"
   ]
  },
  {
   "cell_type": "code",
   "execution_count": 5,
   "metadata": {},
   "outputs": [],
   "source": [
    "page = requests.get(url)"
   ]
  },
  {
   "cell_type": "markdown",
   "metadata": {},
   "source": [
    "4. Check if request is successful  \n",
    "if 200, then it means successful  \n",
    "if 404, then unsuccessful"
   ]
  },
  {
   "cell_type": "code",
   "execution_count": 6,
   "metadata": {},
   "outputs": [
    {
     "data": {
      "text/plain": [
       "200"
      ]
     },
     "execution_count": 6,
     "metadata": {},
     "output_type": "execute_result"
    }
   ],
   "source": [
    "page.status_code"
   ]
  },
  {
   "cell_type": "markdown",
   "metadata": {},
   "source": [
    "5. Look at the contents of the raw HTML"
   ]
  },
  {
   "cell_type": "code",
   "execution_count": 7,
   "metadata": {},
   "outputs": [
    {
     "data": {
      "text/plain": [
       "b'<!DOCTYPE html>\\n<html>\\n\\t<head>\\n   \\t\\t<title>Welcome to CIS 3120</title>\\n\\t</head>\\n\\n\\t<body>\\n\\t\\t<h1> Welcome to CIS 3120!</h1>\\n   \\t\\t<p>Here we learn programming for analytics!</p>\\n\\t</body>\\n</html>'"
      ]
     },
     "execution_count": 7,
     "metadata": {},
     "output_type": "execute_result"
    }
   ],
   "source": [
    "page.content"
   ]
  },
  {
   "cell_type": "markdown",
   "metadata": {},
   "source": [
    "6. Take raw HTML and insert into BeautifulSoup  \n",
    "BeautifulSoupformats HTML in a manner that is easy to read"
   ]
  },
  {
   "cell_type": "code",
   "execution_count": 8,
   "metadata": {},
   "outputs": [
    {
     "name": "stdout",
     "output_type": "stream",
     "text": [
      "<!DOCTYPE html>\n",
      "<html>\n",
      " <head>\n",
      "  <title>\n",
      "   Welcome to CIS 3120\n",
      "  </title>\n",
      " </head>\n",
      " <body>\n",
      "  <h1>\n",
      "   Welcome to CIS 3120!\n",
      "  </h1>\n",
      "  <p>\n",
      "   Here we learn programming for analytics!\n",
      "  </p>\n",
      " </body>\n",
      "</html>\n",
      "\n"
     ]
    }
   ],
   "source": [
    "soup = BeautifulSoup(page.content, 'html.parser')\n",
    "\n",
    "# have to wrap around a print statement so that it is easier to read\n",
    "print(soup.prettify())"
   ]
  },
  {
   "cell_type": "markdown",
   "metadata": {},
   "source": [
    ".find() only returns the first instance on the page"
   ]
  },
  {
   "cell_type": "code",
   "execution_count": 9,
   "metadata": {},
   "outputs": [],
   "source": [
    "h1 = soup.find('h1') \n",
    "h1.get_text() # prints: Welcome to CIS 3120!\n",
    "\n",
    "p = soup.find('p') # prints: <p>Here we are learning programming for analytics!</p>"
   ]
  },
  {
   "cell_type": "markdown",
   "metadata": {},
   "source": [
    ".find_all() finds all instances of what is passed in and returns a list"
   ]
  },
  {
   "cell_type": "code",
   "execution_count": 10,
   "metadata": {},
   "outputs": [
    {
     "data": {
      "text/plain": [
       "'Here we learn programming for analytics!'"
      ]
     },
     "execution_count": 10,
     "metadata": {},
     "output_type": "execute_result"
    }
   ],
   "source": [
    "h1_alt = soup.find_all('h1') # prints: [<h1>Welcome to CIS 3120!</h1>]\n",
    "h1_alt[0].get_text()\n",
    "\n",
    "p_alt = soup.find_all('p')\n",
    "p_alt #prints: [<p>Here we are learning programming for analytics!</p>]\n",
    "p_alt[0].get_text() # prints: 'Here we are learning programming for analytics!'"
   ]
  },
  {
   "cell_type": "markdown",
   "metadata": {},
   "source": [
    ".get_text() and .text() gets the same results"
   ]
  },
  {
   "cell_type": "code",
   "execution_count": 12,
   "metadata": {},
   "outputs": [
    {
     "data": {
      "text/plain": [
       "'Here we learn programming for analytics!'"
      ]
     },
     "execution_count": 12,
     "metadata": {},
     "output_type": "execute_result"
    }
   ],
   "source": [
    "p.get_text()  # prints: 'Here we are learning programming for analytics!'\n",
    "p.text()  # prints: 'Here we are learning programming for analytics!'"
   ]
  }
 ],
 "metadata": {
  "kernelspec": {
   "display_name": "Python 3",
   "language": "python",
   "name": "python3"
  },
  "language_info": {
   "codemirror_mode": {
    "name": "ipython",
    "version": 3
   },
   "file_extension": ".py",
   "mimetype": "text/x-python",
   "name": "python",
   "nbconvert_exporter": "python",
   "pygments_lexer": "ipython3",
   "version": "3.11.5"
  },
  "orig_nbformat": 4
 },
 "nbformat": 4,
 "nbformat_minor": 2
}
