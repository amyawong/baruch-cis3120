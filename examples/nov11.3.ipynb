{
 "cells": [
  {
   "cell_type": "markdown",
   "metadata": {},
   "source": [
    "## Dot Product (of two lists)\n",
    "- sum of products per each index\n",
    "- using numpy makes it faster"
   ]
  },
  {
   "cell_type": "markdown",
   "metadata": {},
   "source": [
    "Traditional Method"
   ]
  },
  {
   "cell_type": "code",
   "execution_count": 7,
   "metadata": {},
   "outputs": [],
   "source": [
    "import time\n",
    "import numpy as np\n",
    "\n",
    "size = 10\n",
    "\n",
    "list1 = [i for i in range(size)]\n",
    "list2 = [i for i in range(size)]\n",
    "\n",
    "array1 = np.array(list1)\n",
    "array2 = np.array(list2)"
   ]
  },
  {
   "cell_type": "code",
   "execution_count": 9,
   "metadata": {},
   "outputs": [
    {
     "name": "stdout",
     "output_type": "stream",
     "text": [
      "285\n",
      "Time taken to find dot product of two lists: 0.003100872039794922\n"
     ]
    }
   ],
   "source": [
    "initial_time = time.time()  # timestamp before concatenation\n",
    "\n",
    "dot = 0\n",
    "for a, b in zip(list1, list2):\n",
    "  dot = dot + (a * b)\n",
    "print(dot)\n",
    "\n",
    "current_time = time.time() # time after concatenation\n",
    "time_taken = current_time - initial_time\n",
    "print(f'Time taken to find dot product of two lists: {time_taken}')"
   ]
  },
  {
   "cell_type": "markdown",
   "metadata": {},
   "source": []
  },
  {
   "cell_type": "markdown",
   "metadata": {},
   "source": [
    "Numpy Method (faster and less syntax)"
   ]
  },
  {
   "cell_type": "code",
   "execution_count": 5,
   "metadata": {},
   "outputs": [
    {
     "name": "stdout",
     "output_type": "stream",
     "text": [
      "285\n",
      "Time taken to find dot product of two arrays: 0.0003509521484375\n"
     ]
    }
   ],
   "source": [
    "initial_time = time.time()  # timestamp before concatenation\n",
    "\n",
    "dot = np.dot(array1, array2)\n",
    "print(dot)\n",
    "\n",
    "current_time = time.time() # time after concatenation\n",
    "time_taken = current_time - initial_time\n",
    "\n",
    "print(f'Time taken to find dot product of two arrays: {time_taken}')"
   ]
  }
 ],
 "metadata": {
  "kernelspec": {
   "display_name": "Python 3",
   "language": "python",
   "name": "python3"
  },
  "language_info": {
   "codemirror_mode": {
    "name": "ipython",
    "version": 3
   },
   "file_extension": ".py",
   "mimetype": "text/x-python",
   "name": "python",
   "nbconvert_exporter": "python",
   "pygments_lexer": "ipython3",
   "version": "3.11.5"
  }
 },
 "nbformat": 4,
 "nbformat_minor": 2
}
