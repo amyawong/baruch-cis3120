{
 "cells": [
  {
   "cell_type": "markdown",
   "metadata": {},
   "source": [
    "1. Import libraries"
   ]
  },
  {
   "cell_type": "code",
   "execution_count": null,
   "metadata": {},
   "outputs": [],
   "source": [
    "import requests\n",
    "import json\n",
    "from bs4 import BeautifulSoup\n",
    "import pandas as pd\n",
    "\n",
    "import spotipy\n",
    "from spotipy.oauth2 import SpotifyClientCredentials"
   ]
  },
  {
   "cell_type": "markdown",
   "metadata": {},
   "source": [
    "1a. Set CLIENT_ID and CLIENT_SECRET"
   ]
  },
  {
   "cell_type": "code",
   "execution_count": null,
   "metadata": {},
   "outputs": [],
   "source": [
    "CLIENT_ID = \"c238a688346d455ab863d901b28a3ffe\"\n",
    "CLIENT_SECRET = \"27783430f4f346db8a3dbdd666fd90af\"\n",
    "\n",
    "client_credentials_manager = SpotifyClientCredentials(client_id = CLIENT_ID, client_secret = CLIENT_SECRET)\n",
    "sp = spotipy.Spotify(client_credentials_manager = client_credentials_manager)"
   ]
  },
  {
   "cell_type": "markdown",
   "metadata": {},
   "source": [
    "2. Set URL"
   ]
  },
  {
   "cell_type": "code",
   "execution_count": null,
   "metadata": {},
   "outputs": [],
   "source": [
    "url =  'https://billboard.com/charts/billboard-200'"
   ]
  },
  {
   "cell_type": "markdown",
   "metadata": {},
   "source": [
    "3. Make a request to the server"
   ]
  },
  {
   "cell_type": "code",
   "execution_count": null,
   "metadata": {},
   "outputs": [],
   "source": [
    "page = requests.get(url)\n",
    "page.status_code"
   ]
  },
  {
   "cell_type": "markdown",
   "metadata": {},
   "source": [
    "4. Create a list to store song titles"
   ]
  },
  {
   "cell_type": "code",
   "execution_count": null,
   "metadata": {},
   "outputs": [],
   "source": [
    "song_titles = []"
   ]
  },
  {
   "cell_type": "code",
   "execution_count": null,
   "metadata": {},
   "outputs": [],
   "source": [
    "if page.status_code == 200:\n",
    "  soup = BeautifulSoup(page.content, 'html.parser')\n",
    "\n",
    "  # 5. Find all the ul tags with 'o-chart-result-list-row' class\n",
    "  ul_tags = soup.find_all('ul', class_ = 'o-chart-results-list-row')\n",
    "  # print(ul_tags)\n",
    "\n",
    "  for ul_tag in ul_tags:\n",
    "    # 6. find the first h3 tag\n",
    "    h3 = ul_tag.find('h3')\n",
    "    song_titles.append(h3.get_text().strip())\n",
    "\n",
    "  # 7. Prepare an empty list to store track data\n",
    "  track_data = []\n",
    "\n",
    "  # 8. Use Spotipy to search for song and get the audio features\n",
    "  for title in song_titles:\n",
    "\n",
    "    # 9. Search for the song \n",
    "    results = sp.search(q = title, limit = 1, type = 'track')\n",
    "\n",
    "    # to ensure that ['tracks']['items'] exists\n",
    "    if results['tracks']['items']:\n",
    "      track = results['tracks']['items'][0]\n",
    "      track_id = track['id']\n",
    "\n",
    "      # 10. Get the track features\n",
    "      track_features = sp.audio_features(track_id)[0]\n",
    "      # print(track_features)\n",
    "        \n",
    "      # 11. Create a dictionary to store track info\n",
    "      track_info = {\n",
    "        'artist': track['artists'][0]['name'],\n",
    "        'track_name': track['name'],\n",
    "        'danceability': track_features['danceability'],\n",
    "        'liveness': track_features['liveness'],\n",
    "        'loudness': track_features['loudness']\n",
    "      }\n",
    "\n",
    "      track_data.append(track_info)\n",
    "    \n",
    "    # print(track_data) # will take a long time to run"
   ]
  },
  {
   "cell_type": "code",
   "execution_count": null,
   "metadata": {},
   "outputs": [],
   "source": [
    "df = pd.DataFrame(track_data)\n",
    "df"
   ]
  },
  {
   "cell_type": "markdown",
   "metadata": {},
   "source": [
    "Isolate dataframe to certain columns"
   ]
  },
  {
   "cell_type": "code",
   "execution_count": null,
   "metadata": {},
   "outputs": [],
   "source": [
    "features = df[['danceability', 'liveness', 'loudness']]\n",
    "features"
   ]
  },
  {
   "cell_type": "markdown",
   "metadata": {},
   "source": [
    "Get correlation of features (danceability, liveness, loudness)"
   ]
  },
  {
   "cell_type": "code",
   "execution_count": null,
   "metadata": {},
   "outputs": [],
   "source": [
    "features.corr()"
   ]
  },
  {
   "cell_type": "markdown",
   "metadata": {},
   "source": [
    "Create heatmap"
   ]
  },
  {
   "cell_type": "code",
   "execution_count": null,
   "metadata": {},
   "outputs": [],
   "source": [
    "import matplotlib.pyplot as plt\n",
    "import seaborn as sns\n",
    "\n",
    "plt.figure(figsize=(10, 6))\n",
    "sns.heatmap(features.corr(), annot = True, fmt = '.2f', cmap = 'coolwarm')\n",
    "plt.title('Correlation Heatmap of Audio Features')\n",
    "plt.show()  "
   ]
  },
  {
   "cell_type": "markdown",
   "metadata": {},
   "source": [
    "Build scatter plot for correlation between danceability and loudness"
   ]
  },
  {
   "cell_type": "code",
   "execution_count": null,
   "metadata": {},
   "outputs": [],
   "source": [
    "features.plot(kind ='scatter', x = 'danceability', y = 'loudness')\n",
    "plt.title('Danceability vs Loudness')\n",
    "plt.show()"
   ]
  },
  {
   "cell_type": "markdown",
   "metadata": {},
   "source": [
    "Build scatter plot for correlation between danceability and liveness"
   ]
  },
  {
   "cell_type": "code",
   "execution_count": null,
   "metadata": {},
   "outputs": [],
   "source": [
    "features.plot(kind ='scatter', x = 'danceability', y = 'liveness')\n",
    "plt.title('Danceability vs Liveness')\n",
    "plt.show()"
   ]
  }
 ],
 "metadata": {
  "kernelspec": {
   "display_name": "Python 3",
   "language": "python",
   "name": "python3"
  },
  "language_info": {
   "codemirror_mode": {
    "name": "ipython",
    "version": 3
   },
   "file_extension": ".py",
   "mimetype": "text/x-python",
   "name": "python",
   "nbconvert_exporter": "python",
   "pygments_lexer": "ipython3",
   "version": "3.11.5"
  }
 },
 "nbformat": 4,
 "nbformat_minor": 2
}
