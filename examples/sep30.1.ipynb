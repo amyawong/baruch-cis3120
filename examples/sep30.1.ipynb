{
 "cells": [
  {
   "cell_type": "markdown",
   "metadata": {},
   "source": [
    "**Series Example**"
   ]
  },
  {
   "cell_type": "code",
   "execution_count": 1,
   "metadata": {},
   "outputs": [],
   "source": [
    "grades = {\n",
    "  'Bob': [100, 95, 88, 87, 80],\n",
    "  'Alice': [98, 100, 76, 99, 92],\n",
    "  'Lisa': [100, 99, 97, 100, 82],\n",
    "  'Alex': [80, 97, 100, 78, 80]\n",
    "}"
   ]
  },
  {
   "cell_type": "markdown",
   "metadata": {},
   "source": [
    "How would you find the average of all scores in the dictionary?"
   ]
  },
  {
   "cell_type": "code",
   "execution_count": 8,
   "metadata": {},
   "outputs": [
    {
     "name": "stdout",
     "output_type": "stream",
     "text": [
      "avg found with method 1 is: 91.4\n",
      "avg2 found with method 2 is: 91.4\n"
     ]
    }
   ],
   "source": [
    "# Method 1:\n",
    "total_score = 0\n",
    "total_count = 0\n",
    "\n",
    "for x in grades.values():\n",
    "  total_score += sum(x)\n",
    "  total_count += len(x)\n",
    "\n",
    "avg = total_score / total_count\n",
    "print(f'avg found with method 1 is: {avg}')\n",
    "\n",
    "\n",
    "# Method 2:\n",
    "x = grades['Bob'] + grades['Alice'] + grades['Lisa'] + grades['Alex']\n",
    "avg2 = sum(x) / len(x)\n",
    "print(f'avg2 found with method 2 is: {avg2}')"
   ]
  }
 ],
 "metadata": {
  "kernelspec": {
   "display_name": "Python 3",
   "language": "python",
   "name": "python3"
  },
  "language_info": {
   "codemirror_mode": {
    "name": "ipython",
    "version": 3
   },
   "file_extension": ".py",
   "mimetype": "text/x-python",
   "name": "python",
   "nbconvert_exporter": "python",
   "pygments_lexer": "ipython3",
   "version": "3.11.5"
  },
  "orig_nbformat": 4
 },
 "nbformat": 4,
 "nbformat_minor": 2
}
